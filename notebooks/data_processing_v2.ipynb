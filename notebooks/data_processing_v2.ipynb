{
 "cells": [
  {
   "cell_type": "code",
   "execution_count": 152,
   "metadata": {},
   "outputs": [],
   "source": [
    "import os\n",
    "from collections import Counter\n",
    "from pathlib import Path\n",
    "import re\n",
    "\n",
    "import pandas as pd\n",
    "import numpy as np\n",
    "\n",
    "import seaborn as sns\n",
    "from sklearn.impute import SimpleImputer\n",
    "import mgitools.os_helpers as os_helpers\n",
    "import scanpy as sc\n",
    "import anndata\n",
    "import matplotlib.pyplot as plt\n",
    "import seaborn as sns\n"
   ]
  },
  {
   "cell_type": "code",
   "execution_count": 26,
   "metadata": {},
   "outputs": [],
   "source": [
    "# !pip install git+https://github.com/estorrs/mgitools\n",
    "# !pip install sklearn\n",
    "# !conda install -y -c bioconda scanpy"
   ]
  },
  {
   "cell_type": "code",
   "execution_count": 126,
   "metadata": {},
   "outputs": [],
   "source": [
    "results_dir = '/data/results/09232020_data_prep'\n",
    "Path(results_dir).mkdir(exist_ok=True, parents=True)"
   ]
  },
  {
   "cell_type": "markdown",
   "metadata": {},
   "source": [
    "###### name conversion"
   ]
  },
  {
   "cell_type": "code",
   "execution_count": 6,
   "metadata": {},
   "outputs": [],
   "source": [
    "CANCER_TYPE_MAP = {\n",
    "    'CPTAC2_BRCA_prospective': 'BRCA_prospective',\n",
    "    'TCGA_BRCA_retrospective': 'BRCA_retrospective',\n",
    "    'BR': 'BRCA_prospective',\n",
    "    'BRCA': 'BRCA_prospective',\n",
    "    'CPTAC2_CRC_prospective': 'CRC_prospective',\n",
    "    'CO': 'CRC_prospective',\n",
    "    'COADREAD': 'CRC_prospective',\n",
    "    'CPTAC2_OV_prospective': 'OV_prospective',\n",
    "    'TCGA_OV_retrospective': 'OV_retrospective',\n",
    "    'OV': 'OV_prospective',\n",
    "    'CPTAC3_CCRCC_discovery': 'CCRCC',\n",
    "    'KIRC': 'CCRCC',\n",
    "    'CPTAC3_GBM_discovery': 'GBM',\n",
    "    'CPTAC3_HNSCC_discovery': 'HNSCC',\n",
    "    'HNSC': 'HNSCC',\n",
    "    'CPTAC3_LSCC_discovery': 'LSCC',\n",
    "    'LUSC': 'LSCC',\n",
    "    'CPTAC3_LUAD_discovery': 'LUAD',\n",
    "    'CPTAC3_UCEC_discovery': 'UCEC'\n",
    "}"
   ]
  },
  {
   "cell_type": "markdown",
   "metadata": {},
   "source": [
    "# data processing"
   ]
  },
  {
   "cell_type": "markdown",
   "metadata": {},
   "source": [
    "### driver genes"
   ]
  },
  {
   "cell_type": "code",
   "execution_count": 7,
   "metadata": {},
   "outputs": [
    {
     "data": {
      "text/html": [
       "<div>\n",
       "<style scoped>\n",
       "    .dataframe tbody tr th:only-of-type {\n",
       "        vertical-align: middle;\n",
       "    }\n",
       "\n",
       "    .dataframe tbody tr th {\n",
       "        vertical-align: top;\n",
       "    }\n",
       "\n",
       "    .dataframe thead th {\n",
       "        text-align: right;\n",
       "    }\n",
       "</style>\n",
       "<table border=\"1\" class=\"dataframe\">\n",
       "  <thead>\n",
       "    <tr style=\"text-align: right;\">\n",
       "      <th></th>\n",
       "      <th>Gene</th>\n",
       "      <th>Cancer</th>\n",
       "    </tr>\n",
       "  </thead>\n",
       "  <tbody>\n",
       "    <tr>\n",
       "      <th>0</th>\n",
       "      <td>ABL1</td>\n",
       "      <td>PANCAN</td>\n",
       "    </tr>\n",
       "    <tr>\n",
       "      <th>1</th>\n",
       "      <td>ACVR1</td>\n",
       "      <td>UCEC</td>\n",
       "    </tr>\n",
       "    <tr>\n",
       "      <th>2</th>\n",
       "      <td>ACVR1B</td>\n",
       "      <td>PANCAN</td>\n",
       "    </tr>\n",
       "    <tr>\n",
       "      <th>3</th>\n",
       "      <td>ACVR2A</td>\n",
       "      <td>COADREAD</td>\n",
       "    </tr>\n",
       "    <tr>\n",
       "      <th>4</th>\n",
       "      <td>ACVR2A</td>\n",
       "      <td>LIHC</td>\n",
       "    </tr>\n",
       "    <tr>\n",
       "      <th>...</th>\n",
       "      <td>...</td>\n",
       "      <td>...</td>\n",
       "    </tr>\n",
       "    <tr>\n",
       "      <th>734</th>\n",
       "      <td>ZMYM3</td>\n",
       "      <td>PRAD</td>\n",
       "    </tr>\n",
       "    <tr>\n",
       "      <th>735</th>\n",
       "      <td>ZNF133</td>\n",
       "      <td>OV</td>\n",
       "    </tr>\n",
       "    <tr>\n",
       "      <th>736</th>\n",
       "      <td>ZNF750</td>\n",
       "      <td>PANCAN</td>\n",
       "    </tr>\n",
       "    <tr>\n",
       "      <th>737</th>\n",
       "      <td>ZNF750</td>\n",
       "      <td>ESCA</td>\n",
       "    </tr>\n",
       "    <tr>\n",
       "      <th>738</th>\n",
       "      <td>ZNF750</td>\n",
       "      <td>HNSC</td>\n",
       "    </tr>\n",
       "  </tbody>\n",
       "</table>\n",
       "<p>739 rows × 2 columns</p>\n",
       "</div>"
      ],
      "text/plain": [
       "       Gene    Cancer\n",
       "0      ABL1    PANCAN\n",
       "1     ACVR1      UCEC\n",
       "2    ACVR1B    PANCAN\n",
       "3    ACVR2A  COADREAD\n",
       "4    ACVR2A      LIHC\n",
       "..      ...       ...\n",
       "734   ZMYM3      PRAD\n",
       "735  ZNF133        OV\n",
       "736  ZNF750    PANCAN\n",
       "737  ZNF750      ESCA\n",
       "738  ZNF750      HNSC\n",
       "\n",
       "[739 rows x 2 columns]"
      ]
     },
     "execution_count": 7,
     "metadata": {},
     "output_type": "execute_result"
    }
   ],
   "source": [
    "genes = pd.read_csv('/data/driver_genes/bailey_smg_table.tsv', sep='\\t')\n",
    "genes"
   ]
  },
  {
   "cell_type": "code",
   "execution_count": 8,
   "metadata": {},
   "outputs": [
    {
     "data": {
      "text/html": [
       "<div>\n",
       "<style scoped>\n",
       "    .dataframe tbody tr th:only-of-type {\n",
       "        vertical-align: middle;\n",
       "    }\n",
       "\n",
       "    .dataframe tbody tr th {\n",
       "        vertical-align: top;\n",
       "    }\n",
       "\n",
       "    .dataframe thead th {\n",
       "        text-align: right;\n",
       "    }\n",
       "</style>\n",
       "<table border=\"1\" class=\"dataframe\">\n",
       "  <thead>\n",
       "    <tr style=\"text-align: right;\">\n",
       "      <th></th>\n",
       "      <th>Gene</th>\n",
       "      <th>Tumor suppressor or oncogene prediction (by 20/20+)</th>\n",
       "    </tr>\n",
       "  </thead>\n",
       "  <tbody>\n",
       "    <tr>\n",
       "      <th>0</th>\n",
       "      <td>PHF6</td>\n",
       "      <td>possible tsg</td>\n",
       "    </tr>\n",
       "    <tr>\n",
       "      <th>1</th>\n",
       "      <td>ABL1</td>\n",
       "      <td>NaN</td>\n",
       "    </tr>\n",
       "    <tr>\n",
       "      <th>2</th>\n",
       "      <td>ALK</td>\n",
       "      <td>NaN</td>\n",
       "    </tr>\n",
       "    <tr>\n",
       "      <th>3</th>\n",
       "      <td>AR</td>\n",
       "      <td>NaN</td>\n",
       "    </tr>\n",
       "    <tr>\n",
       "      <th>4</th>\n",
       "      <td>ARAF</td>\n",
       "      <td>NaN</td>\n",
       "    </tr>\n",
       "    <tr>\n",
       "      <th>...</th>\n",
       "      <td>...</td>\n",
       "      <td>...</td>\n",
       "    </tr>\n",
       "    <tr>\n",
       "      <th>183</th>\n",
       "      <td>KMT2A</td>\n",
       "      <td>tsg</td>\n",
       "    </tr>\n",
       "    <tr>\n",
       "      <th>184</th>\n",
       "      <td>KMT2B</td>\n",
       "      <td>tsg</td>\n",
       "    </tr>\n",
       "    <tr>\n",
       "      <th>185</th>\n",
       "      <td>MAX</td>\n",
       "      <td>oncogene</td>\n",
       "    </tr>\n",
       "    <tr>\n",
       "      <th>186</th>\n",
       "      <td>MED12</td>\n",
       "      <td>oncogene</td>\n",
       "    </tr>\n",
       "    <tr>\n",
       "      <th>187</th>\n",
       "      <td>MEN1</td>\n",
       "      <td>tsg</td>\n",
       "    </tr>\n",
       "  </tbody>\n",
       "</table>\n",
       "<p>188 rows × 2 columns</p>\n",
       "</div>"
      ],
      "text/plain": [
       "      Gene Tumor suppressor or oncogene prediction (by 20/20+)\n",
       "0     PHF6                                       possible tsg \n",
       "1     ABL1                                                NaN \n",
       "2      ALK                                                NaN \n",
       "3       AR                                                NaN \n",
       "4     ARAF                                                NaN \n",
       "..     ...                                                ... \n",
       "183  KMT2A                                                tsg \n",
       "184  KMT2B                                                tsg \n",
       "185    MAX                                           oncogene \n",
       "186  MED12                                           oncogene \n",
       "187   MEN1                                                tsg \n",
       "\n",
       "[188 rows x 2 columns]"
      ]
     },
     "execution_count": 8,
     "metadata": {},
     "output_type": "execute_result"
    }
   ],
   "source": [
    "drivers = pd.read_csv('/data/driver_genes/199_driver_list.txt', sep='\\t')\n",
    "drivers"
   ]
  },
  {
   "cell_type": "code",
   "execution_count": 9,
   "metadata": {},
   "outputs": [
    {
     "data": {
      "text/plain": [
       "dict_keys(['ACC', 'BLCA', 'BRCA_prospective', 'CESC', 'CHOL', 'CRC_prospective', 'DLBC', 'ESCA', 'GBM', 'HNSCC', 'KICH', 'CCRCC', 'KIRP', 'LAML', 'LGG', 'LIHC', 'LUAD', 'LSCC', 'MESO', 'OV_prospective', 'PAAD', 'PANCAN', 'PCPG', 'PRAD', 'SARC', 'SKCM', 'STAD', 'TGCT', 'THCA', 'THYM', 'UCEC', 'UCS', 'UVM'])"
      ]
     },
     "execution_count": 9,
     "metadata": {},
     "output_type": "execute_result"
    }
   ],
   "source": [
    "cancer_to_driver_genes = {CANCER_TYPE_MAP.get(c, c):genes[genes['Cancer']==c].set_index('Gene')\n",
    "                          for c in sorted(set(genes['Cancer']))}\n",
    "cancer_to_driver_genes.keys()"
   ]
  },
  {
   "cell_type": "markdown",
   "metadata": {},
   "source": [
    "### somatic mutations"
   ]
  },
  {
   "cell_type": "code",
   "execution_count": 10,
   "metadata": {},
   "outputs": [
    {
     "data": {
      "text/plain": [
       "['/data/somtatic_mutations/BR.maf',\n",
       " '/data/somtatic_mutations/CCRCC.maf',\n",
       " '/data/somtatic_mutations/CO.maf',\n",
       " '/data/somtatic_mutations/GBM.maf',\n",
       " '/data/somtatic_mutations/HNSCC.maf',\n",
       " '/data/somtatic_mutations/LSCC.maf',\n",
       " '/data/somtatic_mutations/LUAD.maf',\n",
       " '/data/somtatic_mutations/OV.maf',\n",
       " '/data/somtatic_mutations/UCEC.maf']"
      ]
     },
     "execution_count": 10,
     "metadata": {},
     "output_type": "execute_result"
    }
   ],
   "source": [
    "mutation_dir = '/data/somtatic_mutations/'\n",
    "mutation_fps = sorted(os_helpers.listfiles(mutation_dir, regex=r'.maf$'))\n",
    "mutation_fps"
   ]
  },
  {
   "cell_type": "code",
   "execution_count": 11,
   "metadata": {},
   "outputs": [
    {
     "name": "stderr",
     "output_type": "stream",
     "text": [
      "/miniconda/lib/python3.7/site-packages/IPython/core/interactiveshell.py:3146: DtypeWarning: Columns (88) have mixed types.Specify dtype option on import or set low_memory=False.\n",
      "  interactivity=interactivity, compiler=compiler, result=result)\n"
     ]
    },
    {
     "data": {
      "text/plain": [
       "dict_keys(['BRCA_prospective', 'CCRCC', 'CRC_prospective', 'GBM', 'HNSCC', 'LSCC', 'LUAD', 'OV_prospective', 'UCEC'])"
      ]
     },
     "execution_count": 11,
     "metadata": {},
     "output_type": "execute_result"
    }
   ],
   "source": [
    "cancer_to_maf = {}\n",
    "for fp in mutation_fps:\n",
    "    cancer = fp.split('/')[-1].split('.')[0]\n",
    "    mutation_df = pd.read_csv(fp, sep='\\t')\n",
    "    mutation_df['sample_id'] = [x.split('_')[0] for x in mutation_df['Tumor_Sample_Barcode']]\n",
    "    mutation_df = mutation_df[mutation_df['Variant_Classification']!='Silent']\n",
    "    cancer_to_maf[CANCER_TYPE_MAP.get(cancer, cancer)] = mutation_df\n",
    "cancer_to_maf.keys()"
   ]
  },
  {
   "cell_type": "markdown",
   "metadata": {},
   "source": [
    "### gene expression"
   ]
  },
  {
   "cell_type": "code",
   "execution_count": 12,
   "metadata": {},
   "outputs": [
    {
     "data": {
      "text/plain": [
       "['/data/expression/AML_fpkm.tsv',\n",
       " '/data/expression/BR_fpkm.tsv',\n",
       " '/data/expression/CCRCC_fpkm.tsv',\n",
       " '/data/expression/CM_fpkm.tsv',\n",
       " '/data/expression/CO_fpkm.tsv',\n",
       " '/data/expression/EGAD-PDAC_fpkm.tsv',\n",
       " '/data/expression/GBM_fpkm.tsv',\n",
       " '/data/expression/HNSCC_fpkm.tsv',\n",
       " '/data/expression/LSCC_fpkm.tsv',\n",
       " '/data/expression/LUAD_fpkm.tsv',\n",
       " '/data/expression/OV_fpkm.tsv',\n",
       " '/data/expression/PDA_fpkm.tsv',\n",
       " '/data/expression/SAR_fpkm.tsv',\n",
       " '/data/expression/UCEC_fpkm.tsv',\n",
       " '/data/expression/eocg_fpkm.tsv',\n",
       " '/data/expression/hipsci_managed_fpkm.tsv',\n",
       " '/data/expression/hipsci_public_fpkm.tsv']"
      ]
     },
     "execution_count": 12,
     "metadata": {},
     "output_type": "execute_result"
    }
   ],
   "source": [
    "expression_dir = '/data/expression'\n",
    "expression_fps = sorted(os_helpers.listfiles(expression_dir, regex=r'fpkm.tsv$'))\n",
    "expression_fps"
   ]
  },
  {
   "cell_type": "code",
   "execution_count": 13,
   "metadata": {},
   "outputs": [
    {
     "data": {
      "text/plain": [
       "dict_keys(['AML', 'BRCA_prospective', 'CCRCC', 'CM', 'CRC_prospective', 'EGAD-PDAC', 'GBM', 'HNSCC', 'LSCC', 'LUAD', 'OV_prospective', 'PDA', 'SAR', 'UCEC', 'eocg', 'hipsci_managed', 'hipsci_public'])"
      ]
     },
     "execution_count": 13,
     "metadata": {},
     "output_type": "execute_result"
    }
   ],
   "source": [
    "cancer_type_to_expression = {}\n",
    "for fp in expression_fps:\n",
    "    cancer = fp.split('/')[-1].replace('_fpkm.tsv', '')\n",
    "    \n",
    "    cancer_type_to_expression[CANCER_TYPE_MAP.get(cancer, cancer)] = pd.read_csv(fp, sep='\\t', index_col='gene')\n",
    "cancer_type_to_expression.keys()"
   ]
  },
  {
   "cell_type": "markdown",
   "metadata": {},
   "source": [
    "### protein"
   ]
  },
  {
   "cell_type": "code",
   "execution_count": 71,
   "metadata": {},
   "outputs": [],
   "source": [
    "def process_gct(fp):\n",
    "    f = open(fp)\n",
    "    f.readline()\n",
    "    _, n_samples, n_feature_metadata, n_sample_metadata = [int(x) for x in f.readline().strip().split('\\t')]\n",
    "    df = pd.read_csv(f, sep='\\t')\n",
    "    df.columns = [c[1:] if c[0]=='X' else c for c in df.columns]\n",
    "\n",
    "    ## do some renaming and split metadata into different table\n",
    "    ids = df['id'].to_list()[:n_sample_metadata - 1]\n",
    "    metadata = df.iloc[:n_sample_metadata - 1, -n_samples:].copy()\n",
    "    metadata.index = ids\n",
    "    metadata = metadata.transpose()\n",
    "\n",
    "\n",
    "    df = df.iloc[n_sample_metadata:, :]\n",
    "    #     print(df.shape)\n",
    "    df = df.set_index('id')\n",
    "    df.index.name = 'site_id'\n",
    "    \n",
    "    ## pull out samples we have metadata for\n",
    "    data = df[[c for c in metadata.index if c in df.columns]]\n",
    "    \n",
    "    ## pull out variable data\n",
    "    var = df[[c for c in df.columns if c not in metadata.index]]\n",
    "    \n",
    "    adata = anndata.AnnData(X=data.values.transpose(), obs=metadata, var=var)\n",
    "    adata.obs.index.name = 'sample_id'\n",
    "    \n",
    "    ## add gene name in\n",
    "    adata.var['gene'] = [x.split(':')[0] for x in adata.var.index]\n",
    "    \n",
    "    return adata"
   ]
  },
  {
   "cell_type": "code",
   "execution_count": 150,
   "metadata": {},
   "outputs": [],
   "source": [
    "def update_identifiers(adata, cancer):\n",
    "    if cancer in ['LUAD', 'LSCC']:\n",
    "        adata.obs.index = [x + '.T' if x[-2:]!='.N' else x for x in adata.obs.index]\n",
    "        \n",
    "#     if cancer in ['UCEC']:\n",
    "#         adata.obs.index = [x + '.T' if y == 'Tumor' else x + '.N'\n",
    "#                           for x, y in zip(adata.obs['case_id'], adata.obs['sample_type'])]\n",
    "        \n",
    "    if cancer in ['CCRCC', 'UCEC']:\n",
    "        adata.obs.index = [x + '.T' if y == 'Primary Tumor' else x + '.N'\n",
    "                          for x, y in zip(adata.obs['case_id'], adata.obs['sample_type'])]\n",
    "    \n",
    "    if cancer in ['GBM', 'BRCA_prospective']:\n",
    "        adata.obs.index = [x + '.T' for x in adata.obs.index]\n",
    "        \n",
    "    if cancer in ['OV_prospective']:\n",
    "        adata.obs.index = [re.sub(r'^C(.*)$', r'\\1', x) + '.T' if y == 'Primary Tumor' else re.sub(r'^C(.*)$', r'\\1', x) + '.N'\n",
    "                          for x, y in zip(adata.obs.index, adata.obs['sample_type'])]\n",
    "        \n",
    "    if cancer in ['CRC_prospective', 'HNSCC']:\n",
    "        adata.obs.index = [x.replace('-', '.') for x in adata.obs.index]\n",
    "        \n",
    "    adata.obs['sample_type'] = ['tumor' if x[-2:]=='.T' else 'normal' for x in adata.obs.index]\n",
    "    return adata\n"
   ]
  },
  {
   "cell_type": "code",
   "execution_count": 95,
   "metadata": {},
   "outputs": [],
   "source": [
    "def impute_highly_missing(adata, threshold=.75):\n",
    "    counts = np.count_nonzero(~np.isnan(adata.X), axis=0)\n",
    "    frac_present = counts / adata.shape[0]\n",
    "    mask = [True if x >= threshold else False for x in frac_present]\n",
    "    new_adata = adata[:, mask].copy()\n",
    "\n",
    "    new_adata = anndata.AnnData(X=SimpleImputer(strategy='median').fit_transform(new_adata.X),\n",
    "                               obs=new_adata.obs, var=new_adata.var)\n",
    "\n",
    "    \n",
    "    return new_adata"
   ]
  },
  {
   "cell_type": "code",
   "execution_count": 110,
   "metadata": {},
   "outputs": [],
   "source": [
    "def aggregate_to_gene_level(adata):\n",
    "    df = pd.DataFrame(data=adata.X.transpose(), columns=adata.obs.index)\n",
    "    df['gene'] = adata.var['gene'].to_list()\n",
    "    df = df.groupby('gene').mean()\n",
    "    \n",
    "    new_adata = anndata.AnnData(X=df.values.transpose(), obs=adata.obs,)\n",
    "    new_adata.var.index = df.index\n",
    "    \n",
    "    return new_adata"
   ]
  },
  {
   "cell_type": "markdown",
   "metadata": {},
   "source": [
    "#### acetyl"
   ]
  },
  {
   "cell_type": "code",
   "execution_count": 73,
   "metadata": {},
   "outputs": [
    {
     "data": {
      "text/plain": [
       "['/data/v2.0/CPTAC2_BRCA_prospective/CPTAC2_BRCA_prospective_broad_acetylome.v2.0.gct',\n",
       " '/data/v2.0/CPTAC3_GBM_discovery/CPTAC3_GBM_discovery_pnnl_acetylome.v2.0.gct',\n",
       " '/data/v2.0/CPTAC3_LSCC_discovery/CPTAC3_LSCC_discovery_broad_acetylome.v2.0.gct',\n",
       " '/data/v2.0/CPTAC3_LUAD_discovery/CPTAC3_LUAD_discovery_broad_acetylome.v2.0.gct',\n",
       " '/data/v2.0/CPTAC3_UCEC_discovery/CPTAC3_UCEC_discovery_pnnl_acetylome.v2.0.gct']"
      ]
     },
     "execution_count": 73,
     "metadata": {},
     "output_type": "execute_result"
    }
   ],
   "source": [
    "fps = sorted(os_helpers.listfiles('/data/v2.0/', regex=r'acetylome.*.gct'))\n",
    "fps"
   ]
  },
  {
   "cell_type": "code",
   "execution_count": 121,
   "metadata": {
    "scrolled": true
   },
   "outputs": [
    {
     "name": "stderr",
     "output_type": "stream",
     "text": [
      "/miniconda/lib/python3.7/site-packages/IPython/core/interactiveshell.py:3337: DtypeWarning: Columns (6,7,11,13,14,15,16,17,22,23,24,25,26,27,28,29,30,31,32,33,34,35,36,37,38,39,40,41,42,43,44,45,46,47,48,49,50,51,52,53,54,55,56,57,58,59,60,61,62,63,64,65,66,67,68,69,70,71,72,73,74,75,76,77,78,79,80,81,82,83,84,85,86,87,88,89,90,91,92,93,94,95,96,97,98,99,100,101,102,103,104,105,106,107,108,109,110,111,112,113,114,115,116,117,118,119,120,121,122,123,124,125,126,127,128,129,130,131,132,133,134,135,136,137,138,139,140,141,142,143) have mixed types.Specify dtype option on import or set low_memory=False.\n",
      "  if (await self.run_code(code, result,  async_=asy)):\n",
      "/miniconda/lib/python3.7/site-packages/IPython/core/interactiveshell.py:3337: DtypeWarning: Columns (6,7,11,13,14,15,16,17,22,23,24,25,26,27,28,29,30,31,32,33,34,35,36,37,38,39,40,41,42,43,44,45,46,47,48,49,50,51,52,53,54,55,56,57,58,59,60,61,62,63,64,65,66,67,68,69,70,71,72,73,74,75,76,77,78,79,80,81,82,83,84,85,86,87,88,89,90,91,92,93,94,95,96,97,98,99,100,101,102,103,104,105,106,107,108,109,110,111,112,113,114,115,116,117,118,119,120,121,122,123,124,125,126,127,128,129,130) have mixed types.Specify dtype option on import or set low_memory=False.\n",
      "  if (await self.run_code(code, result,  async_=asy)):\n",
      "/miniconda/lib/python3.7/site-packages/IPython/core/interactiveshell.py:3337: DtypeWarning: Columns (6,7,11,13,14,15,16,17,22,23,24,25,26,27,28,29,30,31,32,33,34,35,36,37,38,39,40,41,42,43,44,45,46,47,48,49,50,51,52,53,54,55,56,57,58,59,60,61,62,63,64,65,66,67,68,69,70,71,72,73,74,75,76,77,78,79,80,81,82,83,84,85,86,87,88,89,90,91,92,93,94,95,96,97,98,99,100,101,102,103,104,105,106,107,108,109,110,111,112,113,114,115,116,117,118,119,120,121,122,123,124,125,126,127,128,129,130,131,132,133,134,135,136,137,138,139,140,141,142,143,144,145,146,147,148,149,150,151,152,153,154,155,156,157,158,159,160,161,162,163,164,165,166,167,168,169,170,171,172,173,174,175,176,177,178,179,180,181,182,183,184,185,186,187,188,189,190,191,192,193,194,195,196,197,198,199,200,201,202,203,204,205,206,207,208,209,210,211,212,213,214,215,216,217,218,219,220,221,222,223,224,225,226,227,228) have mixed types.Specify dtype option on import or set low_memory=False.\n",
      "  if (await self.run_code(code, result,  async_=asy)):\n",
      "/miniconda/lib/python3.7/site-packages/IPython/core/interactiveshell.py:3337: DtypeWarning: Columns (6,7,11,13,14,15,16,17,22,23,24,25,26,27,28,29,30,31,32,33,34,35,36,37,38,39,40,41,42,43,44,45,46,47,48,49,50,51,52,53,54,55,56,57,58,59,60,61,62,63,64,65,66,67,68,69,70,71,72,73,74,75,76,77,78,79,80,81,82,83,84,85,86,87,88,89,90,91,92,93,94,95,96,97,98,99,100,101,102,103,104,105,106,107,108,109,110,111,112,113,114,115,116,117,118,119,120,121,122,123,124,125,126,127,128,129,130,131,132,133,134,135,136,137,138,139,140,141,142,143,144,145,146,147,148,149,150,151,152,153,154,155,156,157,158,159,160,161,162,163,164,165,166,167,168,169,170,171,172,173,174,175,176,177,178,179,180,181,182,183,184,185,186,187,188,189,190,191,192,193,194,195,196,197,198,199,200,201,202,203,204,205,206,207,208,209,210,211,212,213,214,215,216,217,218,219,220,221,222,223,224,225,226,227,228,229,230,231,232) have mixed types.Specify dtype option on import or set low_memory=False.\n",
      "  if (await self.run_code(code, result,  async_=asy)):\n",
      "/miniconda/lib/python3.7/site-packages/IPython/core/interactiveshell.py:3337: DtypeWarning: Columns (6,7,11,13,14,15,16,17,22,23,24,25,26,27,28,29,30,31,32,33,34,35,36,37,38,39,40,41,42,43,44,45,46,47,48,49,50,51,52,53,54,55,56,57,58,59,60,61,62,63,64,65,66,67,68,69,70,71,72,73,74,75,76,77,78,79,80,81,82,83,84,85,86,87,88,89,90,91,92,93,94,95,96,97,98,99,100,101,102,103,104,105,106,107,108,109,110,111,112,113,114,115,116,117,118,119,120,121,122,123,124,125,126,127,128,129,130,131,132,133,134,135,136,137,138,139,140,141,142,143,144,145,146,147,148,149,150,151,152,153,154,155,156,157,158,159,160,161,162,163,164,165) have mixed types.Specify dtype option on import or set low_memory=False.\n",
      "  if (await self.run_code(code, result,  async_=asy)):\n"
     ]
    },
    {
     "data": {
      "text/plain": [
       "dict_keys(['BRCA_prospective', 'GBM', 'LSCC', 'LUAD', 'UCEC'])"
      ]
     },
     "execution_count": 121,
     "metadata": {},
     "output_type": "execute_result"
    }
   ],
   "source": [
    "cancer_to_adata = {}\n",
    "for fp in fps:\n",
    "    cancer = fp.split('/')[3]\n",
    "    cancer = CANCER_TYPE_MAP.get(cancer, cancer)\n",
    "    \n",
    "    cancer_to_adata[cancer] = process_gct(fp)\n",
    "    \n",
    "cancer_to_adata.keys()"
   ]
  },
  {
   "cell_type": "code",
   "execution_count": 122,
   "metadata": {},
   "outputs": [],
   "source": [
    "cancer_to_adata = {c:update_identifiers(adata, c) for c, adata in cancer_to_adata.items()}"
   ]
  },
  {
   "cell_type": "code",
   "execution_count": 123,
   "metadata": {},
   "outputs": [],
   "source": [
    "cancer_to_gene_level = {c:aggregate_to_gene_level(adata) for c, adata in cancer_to_adata.items()}"
   ]
  },
  {
   "cell_type": "code",
   "execution_count": 128,
   "metadata": {
    "scrolled": true
   },
   "outputs": [
    {
     "name": "stderr",
     "output_type": "stream",
     "text": [
      "/miniconda/lib/python3.7/site-packages/seaborn/distributions.py:2551: FutureWarning: `distplot` is a deprecated function and will be removed in a future version. Please adapt your code to use either `displot` (a figure-level function with similar flexibility) or `histplot` (an axes-level function for histograms).\n",
      "  warnings.warn(msg, FutureWarning)\n",
      "/miniconda/lib/python3.7/site-packages/seaborn/distributions.py:2551: FutureWarning: `distplot` is a deprecated function and will be removed in a future version. Please adapt your code to use either `displot` (a figure-level function with similar flexibility) or `histplot` (an axes-level function for histograms).\n",
      "  warnings.warn(msg, FutureWarning)\n",
      "/miniconda/lib/python3.7/site-packages/seaborn/distributions.py:2551: FutureWarning: `distplot` is a deprecated function and will be removed in a future version. Please adapt your code to use either `displot` (a figure-level function with similar flexibility) or `histplot` (an axes-level function for histograms).\n",
      "  warnings.warn(msg, FutureWarning)\n",
      "/miniconda/lib/python3.7/site-packages/seaborn/distributions.py:2551: FutureWarning: `distplot` is a deprecated function and will be removed in a future version. Please adapt your code to use either `displot` (a figure-level function with similar flexibility) or `histplot` (an axes-level function for histograms).\n",
      "  warnings.warn(msg, FutureWarning)\n",
      "/miniconda/lib/python3.7/site-packages/seaborn/distributions.py:2551: FutureWarning: `distplot` is a deprecated function and will be removed in a future version. Please adapt your code to use either `displot` (a figure-level function with similar flexibility) or `histplot` (an axes-level function for histograms).\n",
      "  warnings.warn(msg, FutureWarning)\n",
      "/miniconda/lib/python3.7/site-packages/ipykernel_launcher.py:6: MatplotlibDeprecationWarning: \n",
      "The get_realpath_and_stat function was deprecated in Matplotlib 3.3 and will be removed two minor releases later. Use os.path.realpath and os.stat instead.\n",
      "  \n"
     ]
    },
    {
     "data": {
      "image/png": "[encoded data removed]",
      "text/plain": [
       "<Figure size 432x288 with 1 Axes>"
      ]
     },
     "metadata": {
      "needs_background": "light"
     },
     "output_type": "display_data"
    }
   ],
   "source": [
    "for cancer, adata in cancer_to_gene_level.items():\n",
    "    counts = np.count_nonzero(~np.isnan(adata.X), axis=0)\n",
    "    frac_present = counts / adata.shape[0]\n",
    "    sns.distplot(frac_present, bins=40,)\n",
    "plt.tight_layout()\n",
    "plt.savefig(os.path.join(results_dir, 'fraction_of_genes_missing_acetyl.pdf'))"
   ]
  },
  {
   "cell_type": "code",
   "execution_count": 129,
   "metadata": {},
   "outputs": [
    {
     "name": "stderr",
     "output_type": "stream",
     "text": [
      "/miniconda/lib/python3.7/site-packages/anndata/_core/anndata.py:1094: FutureWarning: is_categorical is deprecated and will be removed in a future version.  Use is_categorical_dtype instead\n",
      "  if not is_categorical(df_full[k]):\n",
      "/miniconda/lib/python3.7/site-packages/anndata/_core/anndata.py:1094: FutureWarning: is_categorical is deprecated and will be removed in a future version.  Use is_categorical_dtype instead\n",
      "  if not is_categorical(df_full[k]):\n",
      "/miniconda/lib/python3.7/site-packages/anndata/_core/anndata.py:1094: FutureWarning: is_categorical is deprecated and will be removed in a future version.  Use is_categorical_dtype instead\n",
      "  if not is_categorical(df_full[k]):\n",
      "/miniconda/lib/python3.7/site-packages/anndata/_core/anndata.py:1094: FutureWarning: is_categorical is deprecated and will be removed in a future version.  Use is_categorical_dtype instead\n",
      "  if not is_categorical(df_full[k]):\n",
      "/miniconda/lib/python3.7/site-packages/anndata/_core/anndata.py:1094: FutureWarning: is_categorical is deprecated and will be removed in a future version.  Use is_categorical_dtype instead\n",
      "  if not is_categorical(df_full[k]):\n"
     ]
    }
   ],
   "source": [
    "cancer_to_gene_level = {c:impute_highly_missing(adata, threshold=.9) for c, adata in cancer_to_gene_level.items()}"
   ]
  },
  {
   "cell_type": "code",
   "execution_count": 130,
   "metadata": {},
   "outputs": [
    {
     "name": "stderr",
     "output_type": "stream",
     "text": [
      "/miniconda/lib/python3.7/site-packages/anndata/_core/anndata.py:1192: FutureWarning: is_categorical is deprecated and will be removed in a future version.  Use is_categorical_dtype instead\n",
      "  if is_string_dtype(df[key]) and not is_categorical(df[key])\n",
      "... storing 'tmt_experiment' as categorical\n",
      "... storing 'tmt_channel' as categorical\n",
      "... storing 'sample_type' as categorical\n",
      "... storing 'tmt_experiment' as categorical\n",
      "... storing 'tmt_channel' as categorical\n",
      "... storing 'sample_type' as categorical\n",
      "... storing 'case_id' as categorical\n",
      "... storing 'tmt_experiment' as categorical\n",
      "... storing 'tmt_channel' as categorical\n",
      "... storing 'sample_type' as categorical\n",
      "... storing 'case_id' as categorical\n",
      "... storing 'tmt_experiment' as categorical\n",
      "... storing 'tmt_channel' as categorical\n",
      "... storing 'sample_type' as categorical\n",
      "... storing 'case_id' as categorical\n",
      "... storing 'sample_type' as categorical\n",
      "... storing 'tmt_experiment' as categorical\n",
      "... storing 'tmt_channel' as categorical\n"
     ]
    }
   ],
   "source": [
    "for cancer, adata in cancer_to_gene_level.items():\n",
    "    adata.write_h5ad(os.path.join(results_dir, f'acetyl_processed_{cancer}.h5ad'))"
   ]
  },
  {
   "cell_type": "markdown",
   "metadata": {},
   "source": [
    "##### phospho"
   ]
  },
  {
   "cell_type": "code",
   "execution_count": 131,
   "metadata": {},
   "outputs": [
    {
     "data": {
      "text/plain": [
       "['/data/v2.0/CPTAC2_BRCA_prospective/CPTAC2_BRCA_prospective_broad_phosphoproteome.v2.0.gct',\n",
       " '/data/v2.0/CPTAC2_CRC_prospective/CPTAC2_CRC_prospective_pnnl_phosphoproteome.v2.0.gct',\n",
       " '/data/v2.0/CPTAC2_OV_prospective/CPTAC2_OV_prospective_pnnl_phosphoproteome.v2.0.gct',\n",
       " '/data/v2.0/CPTAC3_CCRCC_discovery/CPTAC3_CCRCC_discovery_umich_phosphoproteome.v2.0.gct',\n",
       " '/data/v2.0/CPTAC3_GBM_discovery/CPTAC3_GBM_discovery_pnnl_phosphoproteome.v2.0.gct',\n",
       " '/data/v2.0/CPTAC3_HNSCC_discovery/CPTAC3_HNSCC_discovery_umich_phosphoproteome.v2.0.gct',\n",
       " '/data/v2.0/CPTAC3_LSCC_discovery/CPTAC3_LSCC_discovery_broad_phosphoproteome.v2.0.gct',\n",
       " '/data/v2.0/CPTAC3_LUAD_discovery/CPTAC3_LUAD_discovery_broad_phosphoproteome.v2.0.gct',\n",
       " '/data/v2.0/CPTAC3_UCEC_discovery/CPTAC3_UCEC_discovery_pnnl_phosphoproteome.v2.0.gct',\n",
       " '/data/v2.0/TCGA_BRCA_retrospective/TCGA_BRCA_retrospective_broad_phosphoproteome.v2.0.gct',\n",
       " '/data/v2.0/TCGA_OV_retrospective/TCGA_OV_retrospective_pnnl_phosphoproteome.v2.0.gct']"
      ]
     },
     "execution_count": 131,
     "metadata": {},
     "output_type": "execute_result"
    }
   ],
   "source": [
    "fps = sorted(os_helpers.listfiles('/data/v2.0/', regex=r'phosph.*.gct'))\n",
    "fps"
   ]
  },
  {
   "cell_type": "code",
   "execution_count": 153,
   "metadata": {
    "scrolled": true
   },
   "outputs": [
    {
     "name": "stderr",
     "output_type": "stream",
     "text": [
      "/miniconda/lib/python3.7/site-packages/IPython/core/interactiveshell.py:3337: DtypeWarning: Columns (6,7,11,13,14,15,16,17,22,23,24,25,26,27,28,29,30,31,32,33,34,35,36,37,38,39,40,41,42,43,44,45,46,47,48,49,50,51,52,53,54,55,56,57,58,59,60,61,62,63,64,65,66,67,68,69,70,71,72,73,74,75,76,77,78,79,80,81,82,83,84,85,86,87,88,89,90,91,92,93,94,95,96,97,98,99,100,101,102,103,104,105,106,107,108,109,110,111,112,113,114,115,116,117,118,119,120,121,122,123,124,125,126,127,128,129,130,131,132,133,134,135,136,137,138,139,140,141,142,143) have mixed types.Specify dtype option on import or set low_memory=False.\n",
      "  if (await self.run_code(code, result,  async_=asy)):\n",
      "/miniconda/lib/python3.7/site-packages/IPython/core/interactiveshell.py:3337: DtypeWarning: Columns (5,6,7,8,13,15,16,17,18,19,24,25,26,27,28,29,30,31,32,33,34,35,36,37,38,39,40,41,42,43,44,45,46,47,48,49,50,51,52,53,54,55,56,57,58,59,60,61,62,63,64,65,66,67,68,69,70,71,72,73,74,75,76,77,78,79,80,81,82,83,84,85,86,87,88,89,90,91,92,93,94,95,96,97,98,99,100,101,102,103,104,105,106,107,108,109,110,111,112,113,114,115,116,117,118,119,120,121,122,123,124,125,126,127,128,129,130,131,132,133,134,135,136,137,138,139,140,141,142,143,144,145,146,147,148,149,150,151,152,153,154,155,156,157,158,159,160,161,162,163,164,165,166,167,168,169,170,171,172,173,174,175,176,177,178,179,180,181,182,183,184,185,186,187,188,189,190,191,192,193,194,195,196,197,198,199,200,201,202,203,204,205,206,207,208,209,210,211,212,213,214,215,216,217,218,219,220) have mixed types.Specify dtype option on import or set low_memory=False.\n",
      "  if (await self.run_code(code, result,  async_=asy)):\n",
      "/miniconda/lib/python3.7/site-packages/IPython/core/interactiveshell.py:3337: DtypeWarning: Columns (5,6,13,15,16,17,18,19,24,25,26,27,28,29,30,31,32,33,34,35,36,37,38,39,40,41,42,43,44,45,46,47,48,49,50,51,52,53,54,55,56,57,58,59,60,61,62,63,64,65,66,67,68,69,70,71,72,73,74,75,76,77,78,79,80,81,82,83,84,85,86,87,88,89,90,91,92,93,94,95,96,97,98,99,100,101,102,103,104,105,106,107,108,109,110,111,112,113,114,115,116,117,118,119,120,121,122,123,124,125,126) have mixed types.Specify dtype option on import or set low_memory=False.\n",
      "  if (await self.run_code(code, result,  async_=asy)):\n",
      "/miniconda/lib/python3.7/site-packages/IPython/core/interactiveshell.py:3337: DtypeWarning: Columns (6,7,11,13,14,15,16,17,22,23,24,25,26,27,28,29,30,31,32,33,34,35,36,37,38,39,40,41,42,43,44,45,46,47,48,49,50,51,52,53,54,55,56,57,58,59,60,61,62,63,64,65,66,67,68,69,70,71,72,73,74,75,76,77,78,79,80,81,82,83,84,85,86,87,88,89,90,91,92,93,94,95,96,97,98,99,100,101,102,103,104,105,106,107,108,109,110,111,112,113,114,115,116,117,118,119,120,121,122,123,124,125,126,127,128,129,130,131,132,133,134,135,136,137,138,139,140,141,142,143,144,145,146,147,148,149,150,151,152,153,154,155,156,157,158,159,160,161,162,163,164,165,166,167,168,169,170,171,172,173,174,175,176,177,178,179,180,181,182,183,184,185,186,187,188,189,190,191,192,193,194,195,196,197,198,199,200,201,202,203,204,205,206,207,208,209,210,211,212,213,214,215) have mixed types.Specify dtype option on import or set low_memory=False.\n",
      "  if (await self.run_code(code, result,  async_=asy)):\n",
      "/miniconda/lib/python3.7/site-packages/IPython/core/interactiveshell.py:3337: DtypeWarning: Columns (6,7,11,13,14,15,16,17,22,23,24,25,26,27,28,29,30,31,32,33,34,35,36,37,38,39,40,41,42,43,44,45,46,47,48,49,50,51,52,53,54,55,56,57,58,59,60,61,62,63,64,65,66,67,68,69,70,71,72,73,74,75,76,77,78,79,80,81,82,83,84,85,86,87,88,89,90,91,92,93,94,95,96,97,98,99,100,101,102,103,104,105,106,107,108,109,110,111,112,113,114,115,116,117,118,119,120,121,122,123,124,125,126,127,128,129,130) have mixed types.Specify dtype option on import or set low_memory=False.\n",
      "  if (await self.run_code(code, result,  async_=asy)):\n",
      "/miniconda/lib/python3.7/site-packages/IPython/core/interactiveshell.py:3337: DtypeWarning: Columns (6,7,11,13,14,15,16,17,22,23,24,25,26,27,28,29,30,31,32,33,34,35,36,37,38,39,40,41,42,43,44,45,46,47,48,49,50,51,52,53,54,55,56,57,58,59,60,61,62,63,64,65,66,67,68,69,70,71,72,73,74,75,76,77,78,79,80,81,82,83,84,85,86,87,88,89,90,91,92,93,94,95,96,97,98,99,100,101,102,103,104,105,106,107,108,109,110,111,112,113,114,115,116,117,118,119,120,121,122,123,124,125,126,127,128,129,130,131,132,133,134,135,136,137,138,139,140,141,142,143,144,145,146,147,148,149,150,151,152,153,154,155,156,157,158,159,160,161,162,163,164,165,166,167,168,169,170,171,172,173,174,175,176,177,178,179,180,181,182,183,184,185,186,187,188,189,190,191,192,193,194,195,196,197,198,199,200,201,202,203,204,205,206,207) have mixed types.Specify dtype option on import or set low_memory=False.\n",
      "  if (await self.run_code(code, result,  async_=asy)):\n",
      "/miniconda/lib/python3.7/site-packages/IPython/core/interactiveshell.py:3337: DtypeWarning: Columns (6,7,11,13,14,15,16,17,22,23,24,25,26,27,28,29,30,31,32,33,34,35,36,37,38,39,40,41,42,43,44,45,46,47,48,49,50,51,52,53,54,55,56,57,58,59,60,61,62,63,64,65,66,67,68,69,70,71,72,73,74,75,76,77,78,79,80,81,82,83,84,85,86,87,88,89,90,91,92,93,94,95,96,97,98,99,100,101,102,103,104,105,106,107,108,109,110,111,112,113,114,115,116,117,118,119,120,121,122,123,124,125,126,127,128,129,130,131,132,133,134,135,136,137,138,139,140,141,142,143,144,145,146,147,148,149,150,151,152,153,154,155,156,157,158,159,160,161,162,163,164,165,166,167,168,169,170,171,172,173,174,175,176,177,178,179,180,181,182,183,184,185,186,187,188,189,190,191,192,193,194,195,196,197,198,199,200,201,202,203,204,205,206,207,208,209,210,211,212,213,214,215,216,217,218,219,220,221,222,223,224,225,226,227,228) have mixed types.Specify dtype option on import or set low_memory=False.\n",
      "  if (await self.run_code(code, result,  async_=asy)):\n",
      "/miniconda/lib/python3.7/site-packages/IPython/core/interactiveshell.py:3337: DtypeWarning: Columns (6,7,11,13,14,15,16,17,22,23,24,25,26,27,28,29,30,31,32,33,34,35,36,37,38,39,40,41,42,43,44,45,46,47,48,49,50,51,52,53,54,55,56,57,58,59,60,61,62,63,64,65,66,67,68,69,70,71,72,73,74,75,76,77,78,79,80,81,82,83,84,85,86,87,88,89,90,91,92,93,94,95,96,97,98,99,100,101,102,103,104,105,106,107,108,109,110,111,112,113,114,115,116,117,118,119,120,121,122,123,124,125,126,127,128,129,130,131,132,133,134,135,136,137,138,139,140,141,142,143,144,145,146,147,148,149,150,151,152,153,154,155,156,157,158,159,160,161,162,163,164,165,166,167,168,169,170,171,172,173,174,175,176,177,178,179,180,181,182,183,184,185,186,187,188,189,190,191,192,193,194,195,196,197,198,199,200,201,202,203,204,205,206,207,208,209,210,211,212,213,214,215,216,217,218,219,220,221,222,223,224,225,226,227,228,229,230,231,232) have mixed types.Specify dtype option on import or set low_memory=False.\n",
      "  if (await self.run_code(code, result,  async_=asy)):\n",
      "/miniconda/lib/python3.7/site-packages/IPython/core/interactiveshell.py:3337: DtypeWarning: Columns (6,7,11,13,14,15,16,17,22,23,24,25,26,27,28,29,30,31,32,33,34,35,36,37,38,39,40,41,42,43,44,45,46,47,48,49,50,51,52,53,54,55,56,57,58,59,60,61,62,63,64,65,66,67,68,69,70,71,72,73,74,75,76,77,78,79,80,81,82,83,84,85,86,87,88,89,90,91,92,93,94,95,96,97,98,99,100,101,102,103,104,105,106,107,108,109,110,111,112,113,114,115,116,117,118,119,120,121,122,123,124,125,126,127,128,129,130,131,132,133,134,135,136,137,138,139,140,141,142,143,144,145,146,147,148,149,150,151,152,153,154,155,156,157,158,159,160,161,162,163,164,165) have mixed types.Specify dtype option on import or set low_memory=False.\n",
      "  if (await self.run_code(code, result,  async_=asy)):\n",
      "/miniconda/lib/python3.7/site-packages/IPython/core/interactiveshell.py:3337: DtypeWarning: Columns (8,9,12,18,19,20,21,22,23,24,25,26,27,28,29,30,31,32,33,34,35,36,37,38,39,40,41,42,43,44,45,46,47,48,49,50,51,52,53,54,55,56,57,58,59,60,61,62,63,64,65,66,67,68,69,70,71,72,73,74,75,76,77,78,79,80,81,82,83,84,85,86,87,88,89,90,91,92,93,94,95,96,97,98,99,100) have mixed types.Specify dtype option on import or set low_memory=False.\n",
      "  if (await self.run_code(code, result,  async_=asy)):\n"
     ]
    },
    {
     "data": {
      "text/plain": [
       "dict_keys(['BRCA_prospective', 'CRC_prospective', 'OV_prospective', 'CCRCC', 'GBM', 'HNSCC', 'LSCC', 'LUAD', 'UCEC', 'BRCA_retrospective', 'OV_retrospective'])"
      ]
     },
     "execution_count": 153,
     "metadata": {},
     "output_type": "execute_result"
    }
   ],
   "source": [
    "cancer_to_adata = {}\n",
    "for fp in fps:\n",
    "    cancer = fp.split('/')[3]\n",
    "    cancer = CANCER_TYPE_MAP.get(cancer, cancer)\n",
    "    \n",
    "    cancer_to_adata[cancer] = process_gct(fp)\n",
    "    \n",
    "cancer_to_adata.keys()"
   ]
  },
  {
   "cell_type": "code",
   "execution_count": 154,
   "metadata": {},
   "outputs": [],
   "source": [
    "cancer_to_adata = {c:update_identifiers(adata, c) for c, adata in cancer_to_adata.items()}"
   ]
  },
  {
   "cell_type": "code",
   "execution_count": 155,
   "metadata": {},
   "outputs": [
    {
     "name": "stderr",
     "output_type": "stream",
     "text": [
      "Observation names are not unique. To make them unique, call `.obs_names_make_unique`.\n"
     ]
    }
   ],
   "source": [
    "cancer_to_gene_level = {c:aggregate_to_gene_level(adata) for c, adata in cancer_to_adata.items()}"
   ]
  },
  {
   "cell_type": "code",
   "execution_count": 156,
   "metadata": {
    "scrolled": true
   },
   "outputs": [
    {
     "name": "stderr",
     "output_type": "stream",
     "text": [
      "/miniconda/lib/python3.7/site-packages/seaborn/distributions.py:2551: FutureWarning: `distplot` is a deprecated function and will be removed in a future version. Please adapt your code to use either `displot` (a figure-level function with similar flexibility) or `histplot` (an axes-level function for histograms).\n",
      "  warnings.warn(msg, FutureWarning)\n",
      "/miniconda/lib/python3.7/site-packages/seaborn/distributions.py:2551: FutureWarning: `distplot` is a deprecated function and will be removed in a future version. Please adapt your code to use either `displot` (a figure-level function with similar flexibility) or `histplot` (an axes-level function for histograms).\n",
      "  warnings.warn(msg, FutureWarning)\n",
      "/miniconda/lib/python3.7/site-packages/seaborn/distributions.py:2551: FutureWarning: `distplot` is a deprecated function and will be removed in a future version. Please adapt your code to use either `displot` (a figure-level function with similar flexibility) or `histplot` (an axes-level function for histograms).\n",
      "  warnings.warn(msg, FutureWarning)\n",
      "/miniconda/lib/python3.7/site-packages/seaborn/distributions.py:2551: FutureWarning: `distplot` is a deprecated function and will be removed in a future version. Please adapt your code to use either `displot` (a figure-level function with similar flexibility) or `histplot` (an axes-level function for histograms).\n",
      "  warnings.warn(msg, FutureWarning)\n",
      "/miniconda/lib/python3.7/site-packages/seaborn/distributions.py:2551: FutureWarning: `distplot` is a deprecated function and will be removed in a future version. Please adapt your code to use either `displot` (a figure-level function with similar flexibility) or `histplot` (an axes-level function for histograms).\n",
      "  warnings.warn(msg, FutureWarning)\n",
      "/miniconda/lib/python3.7/site-packages/seaborn/distributions.py:2551: FutureWarning: `distplot` is a deprecated function and will be removed in a future version. Please adapt your code to use either `displot` (a figure-level function with similar flexibility) or `histplot` (an axes-level function for histograms).\n",
      "  warnings.warn(msg, FutureWarning)\n",
      "/miniconda/lib/python3.7/site-packages/seaborn/distributions.py:2551: FutureWarning: `distplot` is a deprecated function and will be removed in a future version. Please adapt your code to use either `displot` (a figure-level function with similar flexibility) or `histplot` (an axes-level function for histograms).\n",
      "  warnings.warn(msg, FutureWarning)\n",
      "/miniconda/lib/python3.7/site-packages/seaborn/distributions.py:2551: FutureWarning: `distplot` is a deprecated function and will be removed in a future version. Please adapt your code to use either `displot` (a figure-level function with similar flexibility) or `histplot` (an axes-level function for histograms).\n",
      "  warnings.warn(msg, FutureWarning)\n",
      "/miniconda/lib/python3.7/site-packages/seaborn/distributions.py:2551: FutureWarning: `distplot` is a deprecated function and will be removed in a future version. Please adapt your code to use either `displot` (a figure-level function with similar flexibility) or `histplot` (an axes-level function for histograms).\n",
      "  warnings.warn(msg, FutureWarning)\n",
      "/miniconda/lib/python3.7/site-packages/seaborn/distributions.py:2551: FutureWarning: `distplot` is a deprecated function and will be removed in a future version. Please adapt your code to use either `displot` (a figure-level function with similar flexibility) or `histplot` (an axes-level function for histograms).\n",
      "  warnings.warn(msg, FutureWarning)\n",
      "/miniconda/lib/python3.7/site-packages/seaborn/distributions.py:2551: FutureWarning: `distplot` is a deprecated function and will be removed in a future version. Please adapt your code to use either `displot` (a figure-level function with similar flexibility) or `histplot` (an axes-level function for histograms).\n",
      "  warnings.warn(msg, FutureWarning)\n",
      "/miniconda/lib/python3.7/site-packages/ipykernel_launcher.py:6: MatplotlibDeprecationWarning: \n",
      "The get_realpath_and_stat function was deprecated in Matplotlib 3.3 and will be removed two minor releases later. Use os.path.realpath and os.stat instead.\n",
      "  \n"
     ]
    },
    {
     "data": {
      "image/png": "[encoded data removed]",
      "text/plain": [
       "<Figure size 432x288 with 1 Axes>"
      ]
     },
     "metadata": {
      "needs_background": "light"
     },
     "output_type": "display_data"
    }
   ],
   "source": [
    "for cancer, adata in cancer_to_gene_level.items():\n",
    "    counts = np.count_nonzero(~np.isnan(adata.X), axis=0)\n",
    "    frac_present = counts / adata.shape[0]\n",
    "    sns.distplot(frac_present, bins=40,)\n",
    "plt.tight_layout()\n",
    "plt.savefig(os.path.join(results_dir, 'fraction_of_genes_missing_phospho.pdf'))"
   ]
  },
  {
   "cell_type": "code",
   "execution_count": 157,
   "metadata": {
    "scrolled": true
   },
   "outputs": [
    {
     "name": "stderr",
     "output_type": "stream",
     "text": [
      "/miniconda/lib/python3.7/site-packages/anndata/_core/anndata.py:1094: FutureWarning: is_categorical is deprecated and will be removed in a future version.  Use is_categorical_dtype instead\n",
      "  if not is_categorical(df_full[k]):\n",
      "/miniconda/lib/python3.7/site-packages/anndata/_core/anndata.py:1094: FutureWarning: is_categorical is deprecated and will be removed in a future version.  Use is_categorical_dtype instead\n",
      "  if not is_categorical(df_full[k]):\n",
      "/miniconda/lib/python3.7/site-packages/anndata/_core/anndata.py:1094: FutureWarning: is_categorical is deprecated and will be removed in a future version.  Use is_categorical_dtype instead\n",
      "  if not is_categorical(df_full[k]):\n",
      "/miniconda/lib/python3.7/site-packages/anndata/_core/anndata.py:1094: FutureWarning: is_categorical is deprecated and will be removed in a future version.  Use is_categorical_dtype instead\n",
      "  if not is_categorical(df_full[k]):\n",
      "/miniconda/lib/python3.7/site-packages/anndata/_core/anndata.py:1094: FutureWarning: is_categorical is deprecated and will be removed in a future version.  Use is_categorical_dtype instead\n",
      "  if not is_categorical(df_full[k]):\n",
      "/miniconda/lib/python3.7/site-packages/anndata/_core/anndata.py:1094: FutureWarning: is_categorical is deprecated and will be removed in a future version.  Use is_categorical_dtype instead\n",
      "  if not is_categorical(df_full[k]):\n",
      "/miniconda/lib/python3.7/site-packages/anndata/_core/anndata.py:1094: FutureWarning: is_categorical is deprecated and will be removed in a future version.  Use is_categorical_dtype instead\n",
      "  if not is_categorical(df_full[k]):\n",
      "/miniconda/lib/python3.7/site-packages/anndata/_core/anndata.py:1094: FutureWarning: is_categorical is deprecated and will be removed in a future version.  Use is_categorical_dtype instead\n",
      "  if not is_categorical(df_full[k]):\n",
      "/miniconda/lib/python3.7/site-packages/anndata/_core/anndata.py:1094: FutureWarning: is_categorical is deprecated and will be removed in a future version.  Use is_categorical_dtype instead\n",
      "  if not is_categorical(df_full[k]):\n",
      "Observation names are not unique. To make them unique, call `.obs_names_make_unique`.\n",
      "Observation names are not unique. To make them unique, call `.obs_names_make_unique`.\n",
      "/miniconda/lib/python3.7/site-packages/anndata/_core/anndata.py:1094: FutureWarning: is_categorical is deprecated and will be removed in a future version.  Use is_categorical_dtype instead\n",
      "  if not is_categorical(df_full[k]):\n",
      "/miniconda/lib/python3.7/site-packages/anndata/_core/anndata.py:1094: FutureWarning: is_categorical is deprecated and will be removed in a future version.  Use is_categorical_dtype instead\n",
      "  if not is_categorical(df_full[k]):\n"
     ]
    }
   ],
   "source": [
    "cancer_to_gene_level = {c:impute_highly_missing(adata, threshold=.9) for c, adata in cancer_to_gene_level.items()}"
   ]
  },
  {
   "cell_type": "code",
   "execution_count": 158,
   "metadata": {
    "scrolled": true
   },
   "outputs": [
    {
     "name": "stderr",
     "output_type": "stream",
     "text": [
      "/miniconda/lib/python3.7/site-packages/anndata/_core/anndata.py:1192: FutureWarning: is_categorical is deprecated and will be removed in a future version.  Use is_categorical_dtype instead\n",
      "  if is_string_dtype(df[key]) and not is_categorical(df[key])\n",
      "... storing 'tmt_experiment' as categorical\n",
      "... storing 'tmt_channel' as categorical\n",
      "... storing 'sample_type' as categorical\n",
      "... storing 'case_id' as categorical\n",
      "... storing 'sample_type' as categorical\n",
      "... storing 'tmt_experiment' as categorical\n",
      "... storing 'case_id' as categorical\n",
      "... storing 'sample_type' as categorical\n",
      "... storing 'tmt_experiment' as categorical\n",
      "... storing 'tmt_channel' as categorical\n",
      "... storing 'case_id' as categorical\n",
      "... storing 'sample_type' as categorical\n",
      "... storing 'tmt_experiment' as categorical\n",
      "... storing 'tmt_experiment' as categorical\n",
      "... storing 'tmt_channel' as categorical\n",
      "... storing 'sample_type' as categorical\n",
      "... storing 'case_id' as categorical\n",
      "... storing 'sample_type' as categorical\n",
      "... storing 'aliquot_id' as categorical\n",
      "... storing 'tmt_experiment' as categorical\n",
      "... storing 'case_id' as categorical\n",
      "... storing 'tmt_experiment' as categorical\n",
      "... storing 'tmt_channel' as categorical\n",
      "... storing 'sample_type' as categorical\n",
      "... storing 'case_id' as categorical\n",
      "... storing 'tmt_experiment' as categorical\n",
      "... storing 'tmt_channel' as categorical\n",
      "... storing 'sample_type' as categorical\n",
      "... storing 'case_id' as categorical\n",
      "... storing 'sample_type' as categorical\n",
      "... storing 'tmt_experiment' as categorical\n",
      "... storing 'tmt_channel' as categorical\n",
      "... storing 'case_id' as categorical\n",
      "... storing 'tcga_case_id' as categorical\n",
      "... storing 'sample_type' as categorical\n",
      "... storing 'sample_type' as categorical\n"
     ]
    }
   ],
   "source": [
    "for cancer, adata in cancer_to_gene_level.items():\n",
    "    adata.write_h5ad(os.path.join(results_dir, f'phospho_processed_{cancer}.h5ad'))"
   ]
  },
  {
   "cell_type": "markdown",
   "metadata": {},
   "source": [
    "##### proteome"
   ]
  },
  {
   "cell_type": "code",
   "execution_count": 160,
   "metadata": {},
   "outputs": [
    {
     "data": {
      "text/plain": [
       "['/data/v2.0/CPTAC2_BRCA_prospective/CPTAC2_BRCA_prospective_broad_proteome.v2.0.gct',\n",
       " '/data/v2.0/CPTAC2_CRC_prospective/CPTAC2_CRC_prospective_pnnl_proteome.v2.0.gct',\n",
       " '/data/v2.0/CPTAC2_OV_prospective/CPTAC2_OV_prospective_pnnl_proteome.v2.0.gct',\n",
       " '/data/v2.0/CPTAC3_CCRCC_discovery/CPTAC3_CCRCC_discovery_umich_proteome.v2.0.gct',\n",
       " '/data/v2.0/CPTAC3_GBM_discovery/CPTAC3_GBM_discovery_pnnl_proteome.v2.0.gct',\n",
       " '/data/v2.0/CPTAC3_HNSCC_discovery/CPTAC3_HNSCC_discovery_umich_proteome.v2.0.gct',\n",
       " '/data/v2.0/CPTAC3_LSCC_discovery/CPTAC3_LSCC_discovery_broad_proteome.v2.0.gct',\n",
       " '/data/v2.0/CPTAC3_LUAD_discovery/CPTAC3_LUAD_discovery_broad_proteome.v2.0.gct',\n",
       " '/data/v2.0/CPTAC3_UCEC_discovery/CPTAC3_UCEC_discovery_pnnl_proteome.v2.0.gct',\n",
       " '/data/v2.0/TCGA_BRCA_retrospective/TCGA_BRCA_retrospective_broad_proteome.v2.0.gct',\n",
       " '/data/v2.0/TCGA_OV_retrospective/TCGA_OV_retrospective_pnnl_proteome.v2.0.gct']"
      ]
     },
     "execution_count": 160,
     "metadata": {},
     "output_type": "execute_result"
    }
   ],
   "source": [
    "fps = sorted(os_helpers.listfiles('/data/v2.0/', regex=r'_proteome.*.gct'))\n",
    "fps"
   ]
  },
  {
   "cell_type": "code",
   "execution_count": 161,
   "metadata": {
    "scrolled": true
   },
   "outputs": [
    {
     "name": "stderr",
     "output_type": "stream",
     "text": [
      "/miniconda/lib/python3.7/site-packages/IPython/core/interactiveshell.py:3337: DtypeWarning: Columns (2,3,4,5,6,7,8,10,12,13,14,15,16,17,18,19,20,21,22,23,24,25,26,27,28,29,30,31,32,33,34,35,36,37,38,39,40,41,42,43,44,45,46,47,48,49,50,51,52,53,54,55,56,57,58,59,60,61,62,63,64,65,66,67,68,69,70,71,72,73,74,75,76,77,78,79,80,81,82,83,84,85,86,87,88,89,90,91,92,93,94,95,96,97,98,99,100,101,102,103,104,105,106,107,108,109,110,111,112,113,114,115,116,117,118,119,120,121,122,123,124,125,126,127,128,129,130,131,132,133) have mixed types.Specify dtype option on import or set low_memory=False.\n",
      "  if (await self.run_code(code, result,  async_=asy)):\n",
      "/miniconda/lib/python3.7/site-packages/IPython/core/interactiveshell.py:3337: DtypeWarning: Columns (2,5,6,7,8,9,10,11,12,13,14,15,16,17,18,19,20,21,22,23,24,25,26,27,28,29,30,31,32,33,34,35,36,37,38,39,40,41,42,43,44,45,46,47,48,49,50,51,52,53,54,55,56,57,58,59,60,61,62,63,64,65,66,67,68,69,70,71,72,73,74,75,76,77,78,79,80,81,82,83,84,85,86,87,88,89,90,91,92,93,94,95,96,97,98,99,100,101,102,103,104,105,106,107,108,109,110,111,112,113,114,115,116,117,118,119,120,121,122,123,124,125,126,127,128,129,130,131,132,133,134,135,136,137,138,139,140,141,142,143,144,145,146,147,148,149,150,151,152,153,154,155,156,157,158,159,160,161,162,163,164,165,166,167,168,169,170,171,172,173,174,175,176,177,178,179,180,181,182,183,184,185,186,187,188,189,190,191,192,193,194,195,196,197,198,199,200,201) have mixed types.Specify dtype option on import or set low_memory=False.\n",
      "  if (await self.run_code(code, result,  async_=asy)):\n",
      "/miniconda/lib/python3.7/site-packages/IPython/core/interactiveshell.py:3337: DtypeWarning: Columns (3,6,7,8,9,10,11,12,13,14,15,16,17,18,19,20,21,22,23,24,25,26,27,28,29,30,31,32,33,34,35,36,37,38,39,40,41,42,43,44,45,46,47,48,49,50,51,52,53,54,55,56,57,58,59,60,61,62,63,64,65,66,67,68,69,70,71,72,73,74,75,76,77,78,79,80,81,82,83,84,85,86,87,88,89,90,91,92,93,94,95,96,97,98,99,100,101,102,103,104,105,106,107,108) have mixed types.Specify dtype option on import or set low_memory=False.\n",
      "  if (await self.run_code(code, result,  async_=asy)):\n",
      "/miniconda/lib/python3.7/site-packages/IPython/core/interactiveshell.py:3337: DtypeWarning: Columns (1,4,6,7,8,9,10,11,12,13,14,15,16,17,18,19,20,21,22,23,24,25,26,27,28,29,30,31,32,33,34,35,36,37,38,39,40,41,42,43,44,45,46,47,48,49,50,51,52,53,54,55,56,57,58,59,60,61,62,63,64,65,66,67,68,69,70,71,72,73,74,75,76,77,78,79,80,81,82,83,84,85,86,87,88,89,90,91,92,93,94,95,96,97,98,99,100,101,102,103,104,105,106,107,108,109,110,111,112,113,114,115,116,117,118,119,120,121,122,123,124,125,126,127,128,129,130,131,132,133,134,135,136,137,138,139,140,141,142,143,144,145,146,147,148,149,150,151,152,153,154,155,156,157,158,159,160,161,162,163,164,165,166,167,168,169,170,171,172,173,174,175,176,177,178,179,180,181,182,183,184,185,186,187,188,189,190,191,192,193,194,195,196,197,198,199) have mixed types.Specify dtype option on import or set low_memory=False.\n",
      "  if (await self.run_code(code, result,  async_=asy)):\n",
      "/miniconda/lib/python3.7/site-packages/IPython/core/interactiveshell.py:3337: DtypeWarning: Columns (3,5,6,7,8,9,10,11,12,13,14,15,16,17,18,19,20,21,22,23,24,25,26,27,28,29,30,31,32,33,34,35,36,37,38,39,40,41,42,43,44,45,46,47,48,49,50,51,52,53,54,55,56,57,58,59,60,61,62,63,64,65,66,67,68,69,70,71,72,73,74,75,76,77,78,79,80,81,82,83,84,85,86,87,88,89,90,91,92,93,94,95,96,97,98,99,100,101,102,103,104,105,106,107,108,109,110,111,112,113) have mixed types.Specify dtype option on import or set low_memory=False.\n",
      "  if (await self.run_code(code, result,  async_=asy)):\n",
      "/miniconda/lib/python3.7/site-packages/IPython/core/interactiveshell.py:3337: DtypeWarning: Columns (2,4,5,6,7,8,9,10,11,12,13,14,15,16,17,18,19,20,21,22,23,24,25,26,27,28,29,30,31,32,33,34,35,36,37,38,39,40,41,42,43,44,45,46,47,48,49,50,51,52,53,54,55,56,57,58,59,60,61,62,63,64,65,66,67,68,69,70,71,72,73,74,75,76,77,78,79,80,81,82,83,84,85,86,87,88,89,90,91,92,93,94,95,96,97,98,99,100,101,102,103,104,105,106,107,108,109,110,111,112,113,114,115,116,117,118,119,120,121,122,123,124,125,126,127,128,129,130,131,132,133,134,135,136,137,138,139,140,141,142,143,144,145,146,147,148,149,150,151,152,153,154,155,156,157,158,159,160,161,162,163,164,165,166,167,168,169,170,171,172,173,174,175,176,177,178,179,180,181,182,183,184,185,186,187,188,189) have mixed types.Specify dtype option on import or set low_memory=False.\n",
      "  if (await self.run_code(code, result,  async_=asy)):\n",
      "/miniconda/lib/python3.7/site-packages/IPython/core/interactiveshell.py:3337: DtypeWarning: Columns (2,3,4,5,6,7,8,10,12,13,14,15,16,17,18,19,20,21,22,23,24,25,26,27,28,29,30,31,32,33,34,35,36,37,38,39,40,41,42,43,44,45,46,47,48,49,50,51,52,53,54,55,56,57,58,59,60,61,62,63,64,65,66,67,68,69,70,71,72,73,74,75,76,77,78,79,80,81,82,83,84,85,86,87,88,89,90,91,92,93,94,95,96,97,98,99,100,101,102,103,104,105,106,107,108,109,110,111,112,113,114,115,116,117,118,119,120,121,122,123,124,125,126,127,128,129,130,131,132,133,134,135,136,137,138,139,140,141,142,143,144,145,146,147,148,149,150,151,152,153,154,155,156,157,158,159,160,161,162,163,164,165,166,167,168,169,170,171,172,173,174,175,176,177,178,179,180,181,182,183,184,185,186,187,188,189,190,191,192,193,194,195,196,197,198,199,200,201,202,203,204,205,206,207,208,209,210,211,212,213,214,215,216,217,218) have mixed types.Specify dtype option on import or set low_memory=False.\n",
      "  if (await self.run_code(code, result,  async_=asy)):\n",
      "/miniconda/lib/python3.7/site-packages/IPython/core/interactiveshell.py:3337: DtypeWarning: Columns (2,3,4,5,6,7,8,10,12,13,14,15,16,17,18,19,20,21,22,23,24,25,26,27,28,29,30,31,32,33,34,35,36,37,38,39,40,41,42,43,44,45,46,47,48,49,50,51,52,53,54,55,56,57,58,59,60,61,62,63,64,65,66,67,68,69,70,71,72,73,74,75,76,77,78,79,80,81,82,83,84,85,86,87,88,89,90,91,92,93,94,95,96,97,98,99,100,101,102,103,104,105,106,107,108,109,110,111,112,113,114,115,116,117,118,119,120,121,122,123,124,125,126,127,128,129,130,131,132,133,134,135,136,137,138,139,140,141,142,143,144,145,146,147,148,149,150,151,152,153,154,155,156,157,158,159,160,161,162,163,164,165,166,167,168,169,170,171,172,173,174,175,176,177,178,179,180,181,182,183,184,185,186,187,188,189,190,191,192,193,194,195,196,197,198,199,200,201,202,203,204,205,206,207,208,209,210,211,212,213,214,215,216,217,218,219,220,221,222) have mixed types.Specify dtype option on import or set low_memory=False.\n",
      "  if (await self.run_code(code, result,  async_=asy)):\n",
      "/miniconda/lib/python3.7/site-packages/IPython/core/interactiveshell.py:3337: DtypeWarning: Columns (2,4,5,6,7,8,9,10,11,12,13,14,15,16,17,18,19,20,21,22,23,24,25,26,27,28,29,30,31,32,33,34,35,36,37,38,39,40,41,42,43,44,45,46,47,48,49,50,51,52,53,54,55,56,57,58,59,60,61,62,63,64,65,66,67,68,69,70,71,72,73,74,75,76,77,78,79,80,81,82,83,84,85,86,87,88,89,90,91,92,93,94,95,96,97,98,99,100,101,102,103,104,105,106,107,108,109,110,111,112,113,114,115,116,117,118,119,120,121,122,123,124,125,126,127,128,129,130,131,132,133,134,135,136,137,138,139,140,141,142,143,144,145,146,147) have mixed types.Specify dtype option on import or set low_memory=False.\n",
      "  if (await self.run_code(code, result,  async_=asy)):\n",
      "/miniconda/lib/python3.7/site-packages/IPython/core/interactiveshell.py:3337: DtypeWarning: Columns (3,4,5,6,7,9,11,12,13,14,15,16,17,18,19,20,21,22,23,24,25,26,27,28,29,30,31,32,33,34,35,36,37,38,39,40,41,42,43,44,45,46,47,48,49,50,51,52,53,54,55,56,57,58,59,60,61,62,63,64,65,66,67,68,69,70,71,72,73,74,75,76,77,78,79,80,81,82,83,84,85,86,87,88,89,90,91,92,93) have mixed types.Specify dtype option on import or set low_memory=False.\n",
      "  if (await self.run_code(code, result,  async_=asy)):\n"
     ]
    },
    {
     "data": {
      "text/plain": [
       "dict_keys(['BRCA_prospective', 'CRC_prospective', 'OV_prospective', 'CCRCC', 'GBM', 'HNSCC', 'LSCC', 'LUAD', 'UCEC', 'BRCA_retrospective', 'OV_retrospective'])"
      ]
     },
     "execution_count": 161,
     "metadata": {},
     "output_type": "execute_result"
    }
   ],
   "source": [
    "cancer_to_adata = {}\n",
    "for fp in fps:\n",
    "    cancer = fp.split('/')[3]\n",
    "    cancer = CANCER_TYPE_MAP.get(cancer, cancer)\n",
    "    \n",
    "    cancer_to_adata[cancer] = process_gct(fp)\n",
    "    \n",
    "cancer_to_adata.keys()"
   ]
  },
  {
   "cell_type": "code",
   "execution_count": null,
   "metadata": {},
   "outputs": [],
   "source": []
  },
  {
   "cell_type": "code",
   "execution_count": 162,
   "metadata": {},
   "outputs": [],
   "source": [
    "cancer_to_adata = {c:update_identifiers(adata, c) for c, adata in cancer_to_adata.items()}"
   ]
  },
  {
   "cell_type": "code",
   "execution_count": 166,
   "metadata": {},
   "outputs": [
    {
     "data": {
      "text/html": [
       "<div>\n",
       "<style scoped>\n",
       "    .dataframe tbody tr th:only-of-type {\n",
       "        vertical-align: middle;\n",
       "    }\n",
       "\n",
       "    .dataframe tbody tr th {\n",
       "        vertical-align: top;\n",
       "    }\n",
       "\n",
       "    .dataframe thead th {\n",
       "        text-align: right;\n",
       "    }\n",
       "</style>\n",
       "<table border=\"1\" class=\"dataframe\">\n",
       "  <thead>\n",
       "    <tr style=\"text-align: right;\">\n",
       "      <th></th>\n",
       "      <th>num_psm</th>\n",
       "      <th>refseq_prot_ids</th>\n",
       "      <th>hgnc_id</th>\n",
       "      <th>entrez_gene_id</th>\n",
       "      <th>ensembl_gene_id</th>\n",
       "      <th>gene</th>\n",
       "    </tr>\n",
       "    <tr>\n",
       "      <th>gene</th>\n",
       "      <th></th>\n",
       "      <th></th>\n",
       "      <th></th>\n",
       "      <th></th>\n",
       "      <th></th>\n",
       "      <th></th>\n",
       "    </tr>\n",
       "  </thead>\n",
       "  <tbody>\n",
       "    <tr>\n",
       "      <th>A1BG</th>\n",
       "      <td>1984</td>\n",
       "      <td>NP_570602.2</td>\n",
       "      <td>HGNC:5</td>\n",
       "      <td>1</td>\n",
       "      <td>ENSG00000121410</td>\n",
       "      <td>A1BG</td>\n",
       "    </tr>\n",
       "    <tr>\n",
       "      <th>A1CF</th>\n",
       "      <td>533</td>\n",
       "      <td>NP_620310.1</td>\n",
       "      <td>HGNC:24086</td>\n",
       "      <td>29974</td>\n",
       "      <td>ENSG00000148584</td>\n",
       "      <td>A1CF</td>\n",
       "    </tr>\n",
       "    <tr>\n",
       "      <th>A2M</th>\n",
       "      <td>8181</td>\n",
       "      <td>NP_000005.2</td>\n",
       "      <td>HGNC:7</td>\n",
       "      <td>2</td>\n",
       "      <td>ENSG00000175899</td>\n",
       "      <td>A2M</td>\n",
       "    </tr>\n",
       "    <tr>\n",
       "      <th>A4GALT</th>\n",
       "      <td>1</td>\n",
       "      <td>NP_001304967.1</td>\n",
       "      <td>HGNC:18149</td>\n",
       "      <td>53947</td>\n",
       "      <td>ENSG00000128274</td>\n",
       "      <td>A4GALT</td>\n",
       "    </tr>\n",
       "    <tr>\n",
       "      <th>AAAS</th>\n",
       "      <td>297</td>\n",
       "      <td>NP_056480.1</td>\n",
       "      <td>HGNC:13666</td>\n",
       "      <td>8086</td>\n",
       "      <td>ENSG00000094914</td>\n",
       "      <td>AAAS</td>\n",
       "    </tr>\n",
       "    <tr>\n",
       "      <th>...</th>\n",
       "      <td>...</td>\n",
       "      <td>...</td>\n",
       "      <td>...</td>\n",
       "      <td>...</td>\n",
       "      <td>...</td>\n",
       "      <td>...</td>\n",
       "    </tr>\n",
       "    <tr>\n",
       "      <th>ZXDC</th>\n",
       "      <td>26</td>\n",
       "      <td>NP_001035743.1</td>\n",
       "      <td>HGNC:28160</td>\n",
       "      <td>79364</td>\n",
       "      <td>ENSG00000070476</td>\n",
       "      <td>ZXDC</td>\n",
       "    </tr>\n",
       "    <tr>\n",
       "      <th>ZYG11B</th>\n",
       "      <td>167</td>\n",
       "      <td>NP_078922.1</td>\n",
       "      <td>HGNC:25820</td>\n",
       "      <td>79699</td>\n",
       "      <td>ENSG00000162378</td>\n",
       "      <td>ZYG11B</td>\n",
       "    </tr>\n",
       "    <tr>\n",
       "      <th>ZYX</th>\n",
       "      <td>1132</td>\n",
       "      <td>NP_001010972.1</td>\n",
       "      <td>HGNC:13200</td>\n",
       "      <td>7791</td>\n",
       "      <td>ENSG00000159840</td>\n",
       "      <td>ZYX</td>\n",
       "    </tr>\n",
       "    <tr>\n",
       "      <th>ZZEF1</th>\n",
       "      <td>1032</td>\n",
       "      <td>NP_055928.3</td>\n",
       "      <td>HGNC:29027</td>\n",
       "      <td>23140</td>\n",
       "      <td>ENSG00000074755</td>\n",
       "      <td>ZZEF1</td>\n",
       "    </tr>\n",
       "    <tr>\n",
       "      <th>ZZZ3</th>\n",
       "      <td>37</td>\n",
       "      <td>NP_056349.1</td>\n",
       "      <td>HGNC:24523</td>\n",
       "      <td>26009</td>\n",
       "      <td>ENSG00000036549</td>\n",
       "      <td>ZZZ3</td>\n",
       "    </tr>\n",
       "  </tbody>\n",
       "</table>\n",
       "<p>11355 rows × 6 columns</p>\n",
       "</div>"
      ],
      "text/plain": [
       "       num_psm refseq_prot_ids     hgnc_id entrez_gene_id  ensembl_gene_id  \\\n",
       "gene                                                                         \n",
       "A1BG      1984     NP_570602.2      HGNC:5              1  ENSG00000121410   \n",
       "A1CF       533     NP_620310.1  HGNC:24086          29974  ENSG00000148584   \n",
       "A2M       8181     NP_000005.2      HGNC:7              2  ENSG00000175899   \n",
       "A4GALT       1  NP_001304967.1  HGNC:18149          53947  ENSG00000128274   \n",
       "AAAS       297     NP_056480.1  HGNC:13666           8086  ENSG00000094914   \n",
       "...        ...             ...         ...            ...              ...   \n",
       "ZXDC        26  NP_001035743.1  HGNC:28160          79364  ENSG00000070476   \n",
       "ZYG11B     167     NP_078922.1  HGNC:25820          79699  ENSG00000162378   \n",
       "ZYX       1132  NP_001010972.1  HGNC:13200           7791  ENSG00000159840   \n",
       "ZZEF1     1032     NP_055928.3  HGNC:29027          23140  ENSG00000074755   \n",
       "ZZZ3        37     NP_056349.1  HGNC:24523          26009  ENSG00000036549   \n",
       "\n",
       "          gene  \n",
       "gene            \n",
       "A1BG      A1BG  \n",
       "A1CF      A1CF  \n",
       "A2M        A2M  \n",
       "A4GALT  A4GALT  \n",
       "AAAS      AAAS  \n",
       "...        ...  \n",
       "ZXDC      ZXDC  \n",
       "ZYG11B  ZYG11B  \n",
       "ZYX        ZYX  \n",
       "ZZEF1    ZZEF1  \n",
       "ZZZ3      ZZZ3  \n",
       "\n",
       "[11355 rows x 6 columns]"
      ]
     },
     "execution_count": 166,
     "metadata": {},
     "output_type": "execute_result"
    }
   ],
   "source": [
    "for adata in cancer_to_adata.values(): adata.var.index.name = 'gene'\n",
    "cancer_to_adata['CCRCC'].var"
   ]
  },
  {
   "cell_type": "code",
   "execution_count": 168,
   "metadata": {
    "scrolled": true
   },
   "outputs": [
    {
     "name": "stderr",
     "output_type": "stream",
     "text": [
      "/miniconda/lib/python3.7/site-packages/seaborn/distributions.py:2551: FutureWarning: `distplot` is a deprecated function and will be removed in a future version. Please adapt your code to use either `displot` (a figure-level function with similar flexibility) or `histplot` (an axes-level function for histograms).\n",
      "  warnings.warn(msg, FutureWarning)\n",
      "/miniconda/lib/python3.7/site-packages/seaborn/distributions.py:2551: FutureWarning: `distplot` is a deprecated function and will be removed in a future version. Please adapt your code to use either `displot` (a figure-level function with similar flexibility) or `histplot` (an axes-level function for histograms).\n",
      "  warnings.warn(msg, FutureWarning)\n",
      "/miniconda/lib/python3.7/site-packages/seaborn/distributions.py:2551: FutureWarning: `distplot` is a deprecated function and will be removed in a future version. Please adapt your code to use either `displot` (a figure-level function with similar flexibility) or `histplot` (an axes-level function for histograms).\n",
      "  warnings.warn(msg, FutureWarning)\n",
      "/miniconda/lib/python3.7/site-packages/seaborn/distributions.py:2551: FutureWarning: `distplot` is a deprecated function and will be removed in a future version. Please adapt your code to use either `displot` (a figure-level function with similar flexibility) or `histplot` (an axes-level function for histograms).\n",
      "  warnings.warn(msg, FutureWarning)\n",
      "/miniconda/lib/python3.7/site-packages/seaborn/distributions.py:2551: FutureWarning: `distplot` is a deprecated function and will be removed in a future version. Please adapt your code to use either `displot` (a figure-level function with similar flexibility) or `histplot` (an axes-level function for histograms).\n",
      "  warnings.warn(msg, FutureWarning)\n",
      "/miniconda/lib/python3.7/site-packages/seaborn/distributions.py:2551: FutureWarning: `distplot` is a deprecated function and will be removed in a future version. Please adapt your code to use either `displot` (a figure-level function with similar flexibility) or `histplot` (an axes-level function for histograms).\n",
      "  warnings.warn(msg, FutureWarning)\n",
      "/miniconda/lib/python3.7/site-packages/seaborn/distributions.py:2551: FutureWarning: `distplot` is a deprecated function and will be removed in a future version. Please adapt your code to use either `displot` (a figure-level function with similar flexibility) or `histplot` (an axes-level function for histograms).\n",
      "  warnings.warn(msg, FutureWarning)\n",
      "/miniconda/lib/python3.7/site-packages/seaborn/distributions.py:2551: FutureWarning: `distplot` is a deprecated function and will be removed in a future version. Please adapt your code to use either `displot` (a figure-level function with similar flexibility) or `histplot` (an axes-level function for histograms).\n",
      "  warnings.warn(msg, FutureWarning)\n",
      "/miniconda/lib/python3.7/site-packages/seaborn/distributions.py:2551: FutureWarning: `distplot` is a deprecated function and will be removed in a future version. Please adapt your code to use either `displot` (a figure-level function with similar flexibility) or `histplot` (an axes-level function for histograms).\n",
      "  warnings.warn(msg, FutureWarning)\n",
      "/miniconda/lib/python3.7/site-packages/seaborn/distributions.py:2551: FutureWarning: `distplot` is a deprecated function and will be removed in a future version. Please adapt your code to use either `displot` (a figure-level function with similar flexibility) or `histplot` (an axes-level function for histograms).\n",
      "  warnings.warn(msg, FutureWarning)\n",
      "/miniconda/lib/python3.7/site-packages/seaborn/distributions.py:2551: FutureWarning: `distplot` is a deprecated function and will be removed in a future version. Please adapt your code to use either `displot` (a figure-level function with similar flexibility) or `histplot` (an axes-level function for histograms).\n",
      "  warnings.warn(msg, FutureWarning)\n",
      "/miniconda/lib/python3.7/site-packages/seaborn/distributions.py:305: UserWarning: Dataset has 0 variance; skipping density estimate.\n",
      "  warnings.warn(msg, UserWarning)\n",
      "/miniconda/lib/python3.7/site-packages/ipykernel_launcher.py:6: MatplotlibDeprecationWarning: \n",
      "The get_realpath_and_stat function was deprecated in Matplotlib 3.3 and will be removed two minor releases later. Use os.path.realpath and os.stat instead.\n",
      "  \n"
     ]
    },
    {
     "data": {
      "image/png": "[encoded data removed]",
      "text/plain": [
       "<Figure size 432x288 with 1 Axes>"
      ]
     },
     "metadata": {
      "needs_background": "light"
     },
     "output_type": "display_data"
    }
   ],
   "source": [
    "for cancer, adata in cancer_to_adata.items():\n",
    "    counts = np.count_nonzero(~np.isnan(adata.X), axis=0)\n",
    "    frac_present = counts / adata.shape[0]\n",
    "    sns.distplot(frac_present, bins=40,)\n",
    "plt.tight_layout()\n",
    "plt.savefig(os.path.join(results_dir, 'fraction_of_genes_missing_proteome.pdf'))"
   ]
  },
  {
   "cell_type": "code",
   "execution_count": 169,
   "metadata": {
    "scrolled": true
   },
   "outputs": [
    {
     "name": "stderr",
     "output_type": "stream",
     "text": [
      "/miniconda/lib/python3.7/site-packages/anndata/_core/anndata.py:1094: FutureWarning: is_categorical is deprecated and will be removed in a future version.  Use is_categorical_dtype instead\n",
      "  if not is_categorical(df_full[k]):\n",
      "/miniconda/lib/python3.7/site-packages/anndata/_core/anndata.py:1094: FutureWarning: is_categorical is deprecated and will be removed in a future version.  Use is_categorical_dtype instead\n",
      "  if not is_categorical(df_full[k]):\n",
      "/miniconda/lib/python3.7/site-packages/anndata/_core/anndata.py:1094: FutureWarning: is_categorical is deprecated and will be removed in a future version.  Use is_categorical_dtype instead\n",
      "  if not is_categorical(df_full[k]):\n",
      "/miniconda/lib/python3.7/site-packages/anndata/_core/anndata.py:1094: FutureWarning: is_categorical is deprecated and will be removed in a future version.  Use is_categorical_dtype instead\n",
      "  if not is_categorical(df_full[k]):\n",
      "/miniconda/lib/python3.7/site-packages/anndata/_core/anndata.py:1094: FutureWarning: is_categorical is deprecated and will be removed in a future version.  Use is_categorical_dtype instead\n",
      "  if not is_categorical(df_full[k]):\n",
      "/miniconda/lib/python3.7/site-packages/anndata/_core/anndata.py:1094: FutureWarning: is_categorical is deprecated and will be removed in a future version.  Use is_categorical_dtype instead\n",
      "  if not is_categorical(df_full[k]):\n",
      "/miniconda/lib/python3.7/site-packages/anndata/_core/anndata.py:1094: FutureWarning: is_categorical is deprecated and will be removed in a future version.  Use is_categorical_dtype instead\n",
      "  if not is_categorical(df_full[k]):\n",
      "/miniconda/lib/python3.7/site-packages/anndata/_core/anndata.py:1094: FutureWarning: is_categorical is deprecated and will be removed in a future version.  Use is_categorical_dtype instead\n",
      "  if not is_categorical(df_full[k]):\n",
      "/miniconda/lib/python3.7/site-packages/anndata/_core/anndata.py:1094: FutureWarning: is_categorical is deprecated and will be removed in a future version.  Use is_categorical_dtype instead\n",
      "  if not is_categorical(df_full[k]):\n",
      "Observation names are not unique. To make them unique, call `.obs_names_make_unique`.\n",
      "Observation names are not unique. To make them unique, call `.obs_names_make_unique`.\n",
      "/miniconda/lib/python3.7/site-packages/anndata/_core/anndata.py:1094: FutureWarning: is_categorical is deprecated and will be removed in a future version.  Use is_categorical_dtype instead\n",
      "  if not is_categorical(df_full[k]):\n",
      "/miniconda/lib/python3.7/site-packages/anndata/_core/anndata.py:1094: FutureWarning: is_categorical is deprecated and will be removed in a future version.  Use is_categorical_dtype instead\n",
      "  if not is_categorical(df_full[k]):\n"
     ]
    }
   ],
   "source": [
    "cancer_to_gene_level = {c:impute_highly_missing(adata, threshold=.9) for c, adata in cancer_to_gene_level.items()}"
   ]
  },
  {
   "cell_type": "code",
   "execution_count": 170,
   "metadata": {},
   "outputs": [
    {
     "name": "stderr",
     "output_type": "stream",
     "text": [
      "/miniconda/lib/python3.7/site-packages/anndata/_core/anndata.py:1192: FutureWarning: is_categorical is deprecated and will be removed in a future version.  Use is_categorical_dtype instead\n",
      "  if is_string_dtype(df[key]) and not is_categorical(df[key])\n"
     ]
    }
   ],
   "source": [
    "for cancer, adata in cancer_to_gene_level.items():\n",
    "    adata.write_h5ad(os.path.join(results_dir, f'proteome_processed_{cancer}.h5ad'))"
   ]
  },
  {
   "cell_type": "markdown",
   "metadata": {},
   "source": [
    "### dataset construction"
   ]
  },
  {
   "cell_type": "code",
   "execution_count": 184,
   "metadata": {},
   "outputs": [
    {
     "data": {
      "text/plain": [
       "AnnData object with n_obs × n_vars = 69 × 413\n",
       "    obs: 'case_id', 'sample_type'"
      ]
     },
     "execution_count": 184,
     "metadata": {},
     "output_type": "execute_result"
    }
   ],
   "source": [
    "adata"
   ]
  },
  {
   "cell_type": "code",
   "execution_count": 185,
   "metadata": {},
   "outputs": [
    {
     "data": {
      "text/html": [
       "<div>\n",
       "<style scoped>\n",
       "    .dataframe tbody tr th:only-of-type {\n",
       "        vertical-align: middle;\n",
       "    }\n",
       "\n",
       "    .dataframe tbody tr th {\n",
       "        vertical-align: top;\n",
       "    }\n",
       "\n",
       "    .dataframe thead th {\n",
       "        text-align: right;\n",
       "    }\n",
       "</style>\n",
       "<table border=\"1\" class=\"dataframe\">\n",
       "  <thead>\n",
       "    <tr style=\"text-align: right;\">\n",
       "      <th></th>\n",
       "      <th>case_id</th>\n",
       "      <th>sample_type</th>\n",
       "    </tr>\n",
       "    <tr>\n",
       "      <th>sample_id</th>\n",
       "      <th></th>\n",
       "      <th></th>\n",
       "    </tr>\n",
       "  </thead>\n",
       "  <tbody>\n",
       "    <tr>\n",
       "      <th>TCGA-13-1484</th>\n",
       "      <td>TCGA-13-1484</td>\n",
       "      <td>normal</td>\n",
       "    </tr>\n",
       "    <tr>\n",
       "      <th>TCGA-13-1489</th>\n",
       "      <td>TCGA-13-1489</td>\n",
       "      <td>normal</td>\n",
       "    </tr>\n",
       "    <tr>\n",
       "      <th>TCGA-13-1494</th>\n",
       "      <td>TCGA-13-1494</td>\n",
       "      <td>normal</td>\n",
       "    </tr>\n",
       "    <tr>\n",
       "      <th>TCGA-13-1499</th>\n",
       "      <td>TCGA-13-1499</td>\n",
       "      <td>normal</td>\n",
       "    </tr>\n",
       "    <tr>\n",
       "      <th>TCGA-13-2071</th>\n",
       "      <td>TCGA-13-2071</td>\n",
       "      <td>normal</td>\n",
       "    </tr>\n",
       "    <tr>\n",
       "      <th>...</th>\n",
       "      <td>...</td>\n",
       "      <td>...</td>\n",
       "    </tr>\n",
       "    <tr>\n",
       "      <th>TCGA-61-1919</th>\n",
       "      <td>TCGA-61-1919</td>\n",
       "      <td>normal</td>\n",
       "    </tr>\n",
       "    <tr>\n",
       "      <th>TCGA-61-1995</th>\n",
       "      <td>TCGA-61-1995</td>\n",
       "      <td>normal</td>\n",
       "    </tr>\n",
       "    <tr>\n",
       "      <th>TCGA-61-2008</th>\n",
       "      <td>TCGA-61-2008</td>\n",
       "      <td>normal</td>\n",
       "    </tr>\n",
       "    <tr>\n",
       "      <th>TCGA-61-2095</th>\n",
       "      <td>TCGA-61-2095</td>\n",
       "      <td>normal</td>\n",
       "    </tr>\n",
       "    <tr>\n",
       "      <th>TCGA-61-2612</th>\n",
       "      <td>TCGA-61-2612</td>\n",
       "      <td>normal</td>\n",
       "    </tr>\n",
       "  </tbody>\n",
       "</table>\n",
       "<p>69 rows × 2 columns</p>\n",
       "</div>"
      ],
      "text/plain": [
       "                   case_id sample_type\n",
       "sample_id                             \n",
       "TCGA-13-1484  TCGA-13-1484      normal\n",
       "TCGA-13-1489  TCGA-13-1489      normal\n",
       "TCGA-13-1494  TCGA-13-1494      normal\n",
       "TCGA-13-1499  TCGA-13-1499      normal\n",
       "TCGA-13-2071  TCGA-13-2071      normal\n",
       "...                    ...         ...\n",
       "TCGA-61-1919  TCGA-61-1919      normal\n",
       "TCGA-61-1995  TCGA-61-1995      normal\n",
       "TCGA-61-2008  TCGA-61-2008      normal\n",
       "TCGA-61-2095  TCGA-61-2095      normal\n",
       "TCGA-61-2612  TCGA-61-2612      normal\n",
       "\n",
       "[69 rows x 2 columns]"
      ]
     },
     "execution_count": 185,
     "metadata": {},
     "output_type": "execute_result"
    }
   ],
   "source": [
    "adata.obs"
   ]
  },
  {
   "cell_type": "code",
   "execution_count": 186,
   "metadata": {},
   "outputs": [
    {
     "data": {
      "text/html": [
       "<div>\n",
       "<style scoped>\n",
       "    .dataframe tbody tr th:only-of-type {\n",
       "        vertical-align: middle;\n",
       "    }\n",
       "\n",
       "    .dataframe tbody tr th {\n",
       "        vertical-align: top;\n",
       "    }\n",
       "\n",
       "    .dataframe thead th {\n",
       "        text-align: right;\n",
       "    }\n",
       "</style>\n",
       "<table border=\"1\" class=\"dataframe\">\n",
       "  <thead>\n",
       "    <tr style=\"text-align: right;\">\n",
       "      <th></th>\n",
       "    </tr>\n",
       "    <tr>\n",
       "      <th>gene</th>\n",
       "    </tr>\n",
       "  </thead>\n",
       "  <tbody>\n",
       "    <tr>\n",
       "      <th>AAAS</th>\n",
       "    </tr>\n",
       "    <tr>\n",
       "      <th>ABCC1</th>\n",
       "    </tr>\n",
       "    <tr>\n",
       "      <th>ABCC4</th>\n",
       "    </tr>\n",
       "    <tr>\n",
       "      <th>ACAP2</th>\n",
       "    </tr>\n",
       "    <tr>\n",
       "      <th>ACTA1</th>\n",
       "    </tr>\n",
       "    <tr>\n",
       "      <th>...</th>\n",
       "    </tr>\n",
       "    <tr>\n",
       "      <th>ZNF281</th>\n",
       "    </tr>\n",
       "    <tr>\n",
       "      <th>ZNF532</th>\n",
       "    </tr>\n",
       "    <tr>\n",
       "      <th>ZNF768</th>\n",
       "    </tr>\n",
       "    <tr>\n",
       "      <th>ZRANB2</th>\n",
       "    </tr>\n",
       "    <tr>\n",
       "      <th>ZRSR2</th>\n",
       "    </tr>\n",
       "  </tbody>\n",
       "</table>\n",
       "<p>413 rows × 0 columns</p>\n",
       "</div>"
      ],
      "text/plain": [
       "Empty DataFrame\n",
       "Columns: []\n",
       "Index: [AAAS, ABCC1, ABCC4, ACAP2, ACTA1, ACTA2, ACTB, ACTG1, ADD2, AFAP1L2, AIF1L, AJUBA, AKAP1, AKAP17A, AKTIP, ANK1, ANK3, AP2A1, AP4B1, APIP, APOA2, APOB, ARHGAP23, ARHGAP31, ARHGAP35, ARHGAP39, ARMCX3, ARPC1B, ARPC5L, ASPM, ATG16L1, ATP2A2, ATP2B2, ATR, BAP1, BCKDHA, BOD1L1, BORCS6, C12orf45, C1orf198, C1orf226, C2CD2, C2CD5, C5AR1, C6orf132, C9orf78, CADM4, CADPS2, CALU, CAMK2A, CAMSAP3, CANX, CARD11, CARMIL1, CASC3, CASK, CAV1, CCDC85C, CCDC88A, CCDC88C, CCDC9B, CCNK, CCNL2, CCNYL1, CDH6, CDK1, CDK2, CDK7, CELSR2, CENPC, CEP112, CEP128, CEP135, CGNL1, CHAMP1, CHCHD3, CHCHD6, CHERP, CIRBP, CLASP2, CLASRP, CLDN11, CLN6, CLTC, CNP, COPB2, COPE, CPNE3, CTNNA2, CTNNB1, CTNNBL1, CUL4A, CWC22, CYBRD1, DAPK3, DCDC2, DDB2, DDX21, DDX24, DDX39A, ...]\n",
       "\n",
       "[413 rows x 0 columns]"
      ]
     },
     "execution_count": 186,
     "metadata": {},
     "output_type": "execute_result"
    }
   ],
   "source": [
    "adata.var"
   ]
  },
  {
   "cell_type": "code",
   "execution_count": 189,
   "metadata": {},
   "outputs": [
    {
     "data": {
      "text/plain": [
       "-0.0951"
      ]
     },
     "execution_count": 189,
     "metadata": {},
     "output_type": "execute_result"
    }
   ],
   "source": [
    "adata[0, 'AAAS'].X[0, 0]"
   ]
  },
  {
   "cell_type": "code",
   "execution_count": 210,
   "metadata": {},
   "outputs": [],
   "source": [
    "def transform_gene_level_adata(adata, dtype):\n",
    "    cases = adata.obs['case_id'].to_list()\n",
    "    case_to_gene_to_vals = {}\n",
    "#         mini = adata[:, [gene]]\n",
    "    \n",
    "    for case in cases:\n",
    "        mini = adata[adata.obs['case_id']==case]\n",
    "#         print(mini.shape)\n",
    "        case_to_gene_to_vals[case] = {}\n",
    "        gene_to_index = {g:i for i, g in enumerate(mini.var.index)}\n",
    "        for gene in sorted(adata.var.index):\n",
    "            t_val, n_val = None, None\n",
    "            for sample, case, stype, data in zip(mini.obs.index, mini.obs['case_id'], mini.obs['sample_type'],\n",
    "                                            mini.X):\n",
    "                if stype == 'tumor': t_val = data[gene_to_index[gene]]\n",
    "                if stype == 'normal': n_val = data[gene_to_index[gene]]\n",
    "         \n",
    "            if t_val is not None and n_val is not None:\n",
    "                tn_diff = t_val - n_val\n",
    "                case_to_gene_to_vals[case][gene] = {\n",
    "                    'tumor': t_val,\n",
    "                    'normal': n_val,\n",
    "                    'difference': t_val - n_val\n",
    "                }\n",
    "    \n",
    "    idxs, data = [], []\n",
    "    for case, d in case_to_gene_to_vals.items():\n",
    "        for gene, vals in d.items():\n",
    "            idxs.append(f'{gene}_{case}')\n",
    "            data.append([vals['tumor'], vals['normal'], vals['difference']])\n",
    "    df = pd.DataFrame(data=data, index=idxs,\n",
    "                      columns=[f'{dtype}_tumor', f'{dtype}_normal', f'{dtype}_difference'])\n",
    "    return df\n",
    "            "
   ]
  },
  {
   "cell_type": "code",
   "execution_count": 211,
   "metadata": {},
   "outputs": [
    {
     "data": {
      "text/plain": [
       "dict_keys(['BRCA_prospective', 'GBM', 'LSCC', 'LUAD', 'UCEC'])"
      ]
     },
     "execution_count": 211,
     "metadata": {},
     "output_type": "execute_result"
    }
   ],
   "source": [
    "fps = sorted(os_helpers.listfiles(results_dir, regex='acetyl.*.h5ad$'))\n",
    "cancer_to_adata = {'_'.join(fp.split('/')[-1].split('_')[2:]).replace('.h5ad', ''):sc.read_h5ad(fp) for fp in fps}\n",
    "cancer_to_adata.keys()"
   ]
  },
  {
   "cell_type": "code",
   "execution_count": 212,
   "metadata": {},
   "outputs": [
    {
     "name": "stderr",
     "output_type": "stream",
     "text": [
      "/miniconda/lib/python3.7/site-packages/anndata/_core/anndata.py:1094: FutureWarning: is_categorical is deprecated and will be removed in a future version.  Use is_categorical_dtype instead\n",
      "  if not is_categorical(df_full[k]):\n"
     ]
    },
    {
     "data": {
      "text/html": [
       "<div>\n",
       "<style scoped>\n",
       "    .dataframe tbody tr th:only-of-type {\n",
       "        vertical-align: middle;\n",
       "    }\n",
       "\n",
       "    .dataframe tbody tr th {\n",
       "        vertical-align: top;\n",
       "    }\n",
       "\n",
       "    .dataframe thead th {\n",
       "        text-align: right;\n",
       "    }\n",
       "</style>\n",
       "<table border=\"1\" class=\"dataframe\">\n",
       "  <thead>\n",
       "    <tr style=\"text-align: right;\">\n",
       "      <th></th>\n",
       "      <th>LSCC_tumor</th>\n",
       "      <th>LSCC_normal</th>\n",
       "      <th>LSCC_difference</th>\n",
       "    </tr>\n",
       "  </thead>\n",
       "  <tbody>\n",
       "    <tr>\n",
       "      <th>A2M_C3L-02665</th>\n",
       "      <td>-0.260340</td>\n",
       "      <td>0.385270</td>\n",
       "      <td>-0.645610</td>\n",
       "    </tr>\n",
       "    <tr>\n",
       "      <th>AASS_C3L-02665</th>\n",
       "      <td>0.350850</td>\n",
       "      <td>0.673850</td>\n",
       "      <td>-0.323000</td>\n",
       "    </tr>\n",
       "    <tr>\n",
       "      <th>ABCE1_C3L-02665</th>\n",
       "      <td>1.534633</td>\n",
       "      <td>-0.684200</td>\n",
       "      <td>2.218833</td>\n",
       "    </tr>\n",
       "    <tr>\n",
       "      <th>ABHD10_C3L-02665</th>\n",
       "      <td>-0.061350</td>\n",
       "      <td>0.403950</td>\n",
       "      <td>-0.465300</td>\n",
       "    </tr>\n",
       "    <tr>\n",
       "      <th>ACAA1_C3L-02665</th>\n",
       "      <td>0.269700</td>\n",
       "      <td>0.733133</td>\n",
       "      <td>-0.463433</td>\n",
       "    </tr>\n",
       "    <tr>\n",
       "      <th>...</th>\n",
       "      <td>...</td>\n",
       "      <td>...</td>\n",
       "      <td>...</td>\n",
       "    </tr>\n",
       "    <tr>\n",
       "      <th>ZNF512_C3L-02349</th>\n",
       "      <td>-0.012850</td>\n",
       "      <td>-0.266300</td>\n",
       "      <td>0.253450</td>\n",
       "    </tr>\n",
       "    <tr>\n",
       "      <th>ZNF638_C3L-02349</th>\n",
       "      <td>1.133560</td>\n",
       "      <td>-2.044240</td>\n",
       "      <td>3.177800</td>\n",
       "    </tr>\n",
       "    <tr>\n",
       "      <th>ZNF740_C3L-02349</th>\n",
       "      <td>0.331800</td>\n",
       "      <td>-0.398233</td>\n",
       "      <td>0.730033</td>\n",
       "    </tr>\n",
       "    <tr>\n",
       "      <th>ZNHIT1_C3L-02349</th>\n",
       "      <td>1.179900</td>\n",
       "      <td>-0.991150</td>\n",
       "      <td>2.171050</td>\n",
       "    </tr>\n",
       "    <tr>\n",
       "      <th>ZYX_C3L-02349</th>\n",
       "      <td>0.053967</td>\n",
       "      <td>0.096133</td>\n",
       "      <td>-0.042167</td>\n",
       "    </tr>\n",
       "  </tbody>\n",
       "</table>\n",
       "<p>106524 rows × 3 columns</p>\n",
       "</div>"
      ],
      "text/plain": [
       "                  LSCC_tumor  LSCC_normal  LSCC_difference\n",
       "A2M_C3L-02665      -0.260340     0.385270        -0.645610\n",
       "AASS_C3L-02665      0.350850     0.673850        -0.323000\n",
       "ABCE1_C3L-02665     1.534633    -0.684200         2.218833\n",
       "ABHD10_C3L-02665   -0.061350     0.403950        -0.465300\n",
       "ACAA1_C3L-02665     0.269700     0.733133        -0.463433\n",
       "...                      ...          ...              ...\n",
       "ZNF512_C3L-02349   -0.012850    -0.266300         0.253450\n",
       "ZNF638_C3L-02349    1.133560    -2.044240         3.177800\n",
       "ZNF740_C3L-02349    0.331800    -0.398233         0.730033\n",
       "ZNHIT1_C3L-02349    1.179900    -0.991150         2.171050\n",
       "ZYX_C3L-02349       0.053967     0.096133        -0.042167\n",
       "\n",
       "[106524 rows x 3 columns]"
      ]
     },
     "execution_count": 212,
     "metadata": {},
     "output_type": "execute_result"
    }
   ],
   "source": [
    "transform_gene_level_adata(cancer_to_adata['LSCC'], 'acetyl')"
   ]
  },
  {
   "cell_type": "code",
   "execution_count": 180,
   "metadata": {},
   "outputs": [
    {
     "name": "stdout",
     "output_type": "stream",
     "text": [
      "Index(['case_id', 'aliquot_id', 'tmt_experiment', 'tmt_channel', 'sample_type',\n",
      "       'tumor_id', 'normal_id'],\n",
      "      dtype='object')\n",
      "Index(['case_id', 'aliquot_id', 'tmt_experiment', 'tmt_channel',\n",
      "       'sample_type'],\n",
      "      dtype='object')\n",
      "Index(['case_id', 'aliquot_id', 'tmt_experiment', 'tmt_channel',\n",
      "       'sample_type'],\n",
      "      dtype='object')\n",
      "Index(['case_id', 'aliquot_id', 'tmt_experiment', 'tmt_channel',\n",
      "       'sample_type'],\n",
      "      dtype='object')\n",
      "Index(['case_id', 'sample_type', 'aliquot_ids', 'tmt_experiment',\n",
      "       'tmt_channel'],\n",
      "      dtype='object')\n"
     ]
    }
   ],
   "source": [
    "for c in cancer_to_adata.values(): print(c.obs.columns)"
   ]
  },
  {
   "cell_type": "code",
   "execution_count": null,
   "metadata": {},
   "outputs": [],
   "source": []
  }
 ],
 "metadata": {
  "kernelspec": {
   "display_name": "Python 3",
   "language": "python",
   "name": "python3"
  },
  "language_info": {
   "codemirror_mode": {
    "name": "ipython",
    "version": 3
   },
   "file_extension": ".py",
   "mimetype": "text/x-python",
   "name": "python",
   "nbconvert_exporter": "python",
   "pygments_lexer": "ipython3",
   "version": "3.7.6"
  }
 },
 "nbformat": 4,
 "nbformat_minor": 4
}
